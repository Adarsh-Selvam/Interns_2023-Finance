{
  "nbformat": 4,
  "nbformat_minor": 0,
  "metadata": {
    "colab": {
      "provenance": []
    },
    "kernelspec": {
      "name": "python3",
      "display_name": "Python 3"
    },
    "language_info": {
      "name": "python"
    }
  },
  "cells": [
    {
      "cell_type": "code",
      "source": [
        "!pip install openai"
      ],
      "metadata": {
        "id": "iI_WhiZhr5I2",
        "colab": {
          "base_uri": "https://localhost:8080/"
        },
        "outputId": "144f827b-7838-46c8-bef0-34b4418e4b07"
      },
      "execution_count": 1,
      "outputs": [
        {
          "output_type": "stream",
          "name": "stdout",
          "text": [
            "Looking in indexes: https://pypi.org/simple, https://us-python.pkg.dev/colab-wheels/public/simple/\n",
            "Collecting openai\n",
            "  Downloading openai-0.27.8-py3-none-any.whl (73 kB)\n",
            "\u001b[2K     \u001b[90m━━━━━━━━━━━━━━━━━━━━━━━━━━━━━━━━━━━━━━━━\u001b[0m \u001b[32m73.6/73.6 kB\u001b[0m \u001b[31m3.1 MB/s\u001b[0m eta \u001b[36m0:00:00\u001b[0m\n",
            "\u001b[?25hRequirement already satisfied: requests>=2.20 in /usr/local/lib/python3.10/dist-packages (from openai) (2.27.1)\n",
            "Requirement already satisfied: tqdm in /usr/local/lib/python3.10/dist-packages (from openai) (4.65.0)\n",
            "Collecting aiohttp (from openai)\n",
            "  Downloading aiohttp-3.8.4-cp310-cp310-manylinux_2_17_x86_64.manylinux2014_x86_64.whl (1.0 MB)\n",
            "\u001b[2K     \u001b[90m━━━━━━━━━━━━━━━━━━━━━━━━━━━━━━━━━━━━━━━━\u001b[0m \u001b[32m1.0/1.0 MB\u001b[0m \u001b[31m20.3 MB/s\u001b[0m eta \u001b[36m0:00:00\u001b[0m\n",
            "\u001b[?25hRequirement already satisfied: urllib3<1.27,>=1.21.1 in /usr/local/lib/python3.10/dist-packages (from requests>=2.20->openai) (1.26.15)\n",
            "Requirement already satisfied: certifi>=2017.4.17 in /usr/local/lib/python3.10/dist-packages (from requests>=2.20->openai) (2022.12.7)\n",
            "Requirement already satisfied: charset-normalizer~=2.0.0 in /usr/local/lib/python3.10/dist-packages (from requests>=2.20->openai) (2.0.12)\n",
            "Requirement already satisfied: idna<4,>=2.5 in /usr/local/lib/python3.10/dist-packages (from requests>=2.20->openai) (3.4)\n",
            "Requirement already satisfied: attrs>=17.3.0 in /usr/local/lib/python3.10/dist-packages (from aiohttp->openai) (23.1.0)\n",
            "Collecting multidict<7.0,>=4.5 (from aiohttp->openai)\n",
            "  Downloading multidict-6.0.4-cp310-cp310-manylinux_2_17_x86_64.manylinux2014_x86_64.whl (114 kB)\n",
            "\u001b[2K     \u001b[90m━━━━━━━━━━━━━━━━━━━━━━━━━━━━━━━━━━━━━━\u001b[0m \u001b[32m114.5/114.5 kB\u001b[0m \u001b[31m10.4 MB/s\u001b[0m eta \u001b[36m0:00:00\u001b[0m\n",
            "\u001b[?25hCollecting async-timeout<5.0,>=4.0.0a3 (from aiohttp->openai)\n",
            "  Downloading async_timeout-4.0.2-py3-none-any.whl (5.8 kB)\n",
            "Collecting yarl<2.0,>=1.0 (from aiohttp->openai)\n",
            "  Downloading yarl-1.9.2-cp310-cp310-manylinux_2_17_x86_64.manylinux2014_x86_64.whl (268 kB)\n",
            "\u001b[2K     \u001b[90m━━━━━━━━━━━━━━━━━━━━━━━━━━━━━━━━━━━━━━\u001b[0m \u001b[32m268.8/268.8 kB\u001b[0m \u001b[31m23.0 MB/s\u001b[0m eta \u001b[36m0:00:00\u001b[0m\n",
            "\u001b[?25hCollecting frozenlist>=1.1.1 (from aiohttp->openai)\n",
            "  Downloading frozenlist-1.3.3-cp310-cp310-manylinux_2_5_x86_64.manylinux1_x86_64.manylinux_2_17_x86_64.manylinux2014_x86_64.whl (149 kB)\n",
            "\u001b[2K     \u001b[90m━━━━━━━━━━━━━━━━━━━━━━━━━━━━━━━━━━━━━━\u001b[0m \u001b[32m149.6/149.6 kB\u001b[0m \u001b[31m15.7 MB/s\u001b[0m eta \u001b[36m0:00:00\u001b[0m\n",
            "\u001b[?25hCollecting aiosignal>=1.1.2 (from aiohttp->openai)\n",
            "  Downloading aiosignal-1.3.1-py3-none-any.whl (7.6 kB)\n",
            "Installing collected packages: multidict, frozenlist, async-timeout, yarl, aiosignal, aiohttp, openai\n",
            "Successfully installed aiohttp-3.8.4 aiosignal-1.3.1 async-timeout-4.0.2 frozenlist-1.3.3 multidict-6.0.4 openai-0.27.8 yarl-1.9.2\n"
          ]
        }
      ]
    },
    {
      "cell_type": "code",
      "source": [
        "import requests\n",
        "import os\n",
        "import openai"
      ],
      "metadata": {
        "id": "ilZQopkiRyem"
      },
      "execution_count": 2,
      "outputs": []
    },
    {
      "cell_type": "code",
      "source": [
        "import pandas as pd\n",
        "import matplotlib.pyplot as plt\n"
      ],
      "metadata": {
        "id": "DOSiye_l7msz"
      },
      "execution_count": 3,
      "outputs": []
    },
    {
      "cell_type": "code",
      "source": [
        "openai.api_key = \"\""
      ],
      "metadata": {
        "id": "cganJlqB48Vb"
      },
      "execution_count": 4,
      "outputs": []
    },
    {
      "cell_type": "code",
      "source": [
        "url = 'https://www.alphavantage.co/query?function=TIME_SERIES_INTRADAY&symbol=IBM&interval=5min&apikey=8FZQQD4S9XQI0JQA'\n",
        "r = requests.get(url)\n",
        "data = r.json()\n",
        "\n",
        "data = data['Time Series (5min)']\n",
        "first_entry = next(iter(data.values()))\n",
        "share_price = float(first_entry['4. close'])\n",
        "share_price"
      ],
      "metadata": {
        "colab": {
          "base_uri": "https://localhost:8080/"
        },
        "id": "-xryDxenOrml",
        "outputId": "70189e2b-a87e-487f-8c94-575983e24041"
      },
      "execution_count": 5,
      "outputs": [
        {
          "output_type": "execute_result",
          "data": {
            "text/plain": [
              "138.22"
            ]
          },
          "metadata": {},
          "execution_count": 5
        }
      ]
    },
    {
      "cell_type": "code",
      "source": [
        "def fetch_sheets(fn, symbol):\n",
        "    url = f'https://www.alphavantage.co/query?function={fn}&symbol={symbol}&apikey=8FZQQD4S9XQI0JQA'\n",
        "    data = requests.get(url)\n",
        "    return data.json()"
      ],
      "metadata": {
        "id": "Ajkk5pXEU3Ty"
      },
      "execution_count": 6,
      "outputs": []
    },
    {
      "cell_type": "code",
      "source": [
        "def return_q1_q2(lista):\n",
        "  return lista[0], lista[1], lista[2], lista[3]"
      ],
      "metadata": {
        "id": "2A3RjQxJaDsD"
      },
      "execution_count": 7,
      "outputs": []
    },
    {
      "cell_type": "code",
      "source": [
        "bs_quarterly_data = fetch_sheets('BALANCE_SHEET', 'IBM')['quarterlyReports'][:4]\n",
        "is_quarterly_data = fetch_sheets('INCOME_STATEMENT', 'IBM')['quarterlyReports'][:4]\n",
        "cf_quarterly_data = fetch_sheets('CASH_FLOW', 'IBM')['quarterlyReports'][:4]"
      ],
      "metadata": {
        "id": "HRhHDcXzVIU3"
      },
      "execution_count": 8,
      "outputs": []
    },
    {
      "cell_type": "code",
      "source": [
        "bs_q1 , bs_q2, bs_q3, bs_q4 = return_q1_q2(bs_quarterly_data)\n",
        "is_q1 , is_q2, is_q3, is_q4 = return_q1_q2(is_quarterly_data)\n",
        "cf_q1 , cf_q2, cf_q3, cf_q4 = return_q1_q2(cf_quarterly_data)"
      ],
      "metadata": {
        "id": "Q8xx-_b5aAOU"
      },
      "execution_count": 9,
      "outputs": []
    },
    {
      "cell_type": "code",
      "source": [
        "def calculate_metrics(is_q1, is_q2, is_q3, is_q4, bs_q1, bs_q2, bs_q3, bs_q4, cf_q1, cf_q2, cf_q3, cf_q4, quarter):\n",
        "  if quarter == 'q1':\n",
        "    is_data = is_q1\n",
        "    bs_data = bs_q1\n",
        "    cf_data = cf_q1\n",
        "    is_data_2 = is_q2\n",
        "    bs_data_2 = bs_q2\n",
        "    cf_data_2 = cf_q2\n",
        "\n",
        "  elif quarter == 'q2':\n",
        "    is_data = is_q2\n",
        "    bs_data = bs_q2\n",
        "    cf_data = cf_q2\n",
        "    is_data_2 = is_q3\n",
        "    bs_data_2 = bs_q3\n",
        "    cf_data_2 = cf_q3\n",
        "\n",
        "  else:\n",
        "    is_data = is_q3\n",
        "    bs_data = bs_q3\n",
        "    cf_data = cf_q3\n",
        "    is_data_2 = is_q4\n",
        "    bs_data_2 = bs_q4\n",
        "    cf_data_2 = cf_q4\n",
        "\n",
        "\n",
        "  EBT = float(is_data['incomeBeforeTax'])\n",
        "  EBIT = float(is_data['grossProfit']) - float(is_data['operatingExpenses'])\n",
        "  revenue = float(is_data['totalRevenue'])\n",
        "  average_assets = (float(bs_data['totalAssets'])+float(bs_data_2['totalAssets']))/2\n",
        "  average_equity = (float(bs_data['totalShareholderEquity'])+float(bs_data_2['totalShareholderEquity']))/2\n",
        "  retained_earnings = float(cf_data['netIncome']) - float(cf_data['dividendPayout'])\n",
        "  tax_burden = float(is_data['netIncome']) / EBT\n",
        "  retention_rate = 1 - (float(cf_data['dividendPayout'])/float(cf_data['netIncome']))\n",
        "  dividend_payout_ratio = (float(cf_data['dividendPayout'])/float(cf_data['netIncome']))\n",
        "\n",
        "  return EBT, EBIT, revenue, average_assets, average_equity, retained_earnings, tax_burden, retention_rate, dividend_payout_ratio\n",
        "\n"
      ],
      "metadata": {
        "id": "IvUWHZUGXeIC"
      },
      "execution_count": 10,
      "outputs": []
    },
    {
      "cell_type": "code",
      "source": [
        "EBT_q1, EBIT_q1, revenue_q1, average_assets, average_equity, retained_earnings_q1, tax_burden_q1, retention_rate_q1,dividend_payout_ratio_q1 = calculate_metrics(is_q1, is_q2, is_q3, is_q4, bs_q1, bs_q2, bs_q3, bs_q4, cf_q1, cf_q2, cf_q3, cf_q4, \"q1\")"
      ],
      "metadata": {
        "id": "BoutP943Zk85"
      },
      "execution_count": 11,
      "outputs": []
    },
    {
      "cell_type": "code",
      "source": [
        "EBT_q2, EBIT_q2, revenue_q2, average_assets, average_equity, retained_earnings_q2, tax_burden_q2, retention_rate_q2, dividend_payout_ratio_q2 = calculate_metrics(is_q1, is_q2, is_q3, is_q4, bs_q1, bs_q2, bs_q3, bs_q4, cf_q1, cf_q2, cf_q3, cf_q4, \"q2\")\n",
        "EBT_q3, EBIT_q3, revenue_q3, average_assets, average_equity, retained_earnings_q3, tax_burden_q3, retention_rate_q3, dividend_payout_ratio_q3 = calculate_metrics(is_q1, is_q2, is_q3, is_q4, bs_q1, bs_q2, bs_q3, bs_q4, cf_q1, cf_q2, cf_q3, cf_q4, \"q3\")"
      ],
      "metadata": {
        "id": "ihJLBM1oDwvJ"
      },
      "execution_count": 12,
      "outputs": []
    },
    {
      "cell_type": "markdown",
      "source": [
        "# Dupont Analysis"
      ],
      "metadata": {
        "id": "VzTQjr_TcTvv"
      }
    },
    {
      "cell_type": "code",
      "source": [
        "interest_burden_q3 = EBT_q3/EBIT_q3\n",
        "operating_profit_margin_q3 = EBIT_q3/revenue_q3\n",
        "asset_turnover_q3 = revenue_q3/average_assets\n",
        "financial_leverage_ratio_q3 = average_assets/average_equity"
      ],
      "metadata": {
        "id": "nlenMfyHEJfE"
      },
      "execution_count": 13,
      "outputs": []
    },
    {
      "cell_type": "code",
      "source": [
        "interest_burden_q2 = EBT_q2/EBIT_q2\n",
        "operating_profit_margin_q2 = EBIT_q2/revenue_q2\n",
        "asset_turnover_q2 = revenue_q2/average_assets\n",
        "financial_leverage_ratio_q2 = average_assets/average_equity"
      ],
      "metadata": {
        "id": "VTrrPxpcEAJ-"
      },
      "execution_count": 14,
      "outputs": []
    },
    {
      "cell_type": "code",
      "source": [
        "interest_burden_q1 = EBT_q1/EBIT_q1\n",
        "operating_profit_margin_q1 = EBIT_q1/revenue_q1\n",
        "asset_turnover_q1 = revenue_q1/average_assets\n",
        "financial_leverage_ratio_q1 = average_assets/average_equity"
      ],
      "metadata": {
        "id": "J68mTxSVcH-m"
      },
      "execution_count": 15,
      "outputs": []
    },
    {
      "cell_type": "code",
      "source": [
        "roe_q1 = tax_burden_q1*interest_burden_q1*operating_profit_margin_q1*asset_turnover_q1*financial_leverage_ratio_q1\n",
        "roe_q1"
      ],
      "metadata": {
        "id": "C_RUXY5odxXI",
        "outputId": "38cf450a-13c2-4581-8bc1-56280a78d855",
        "colab": {
          "base_uri": "https://localhost:8080/"
        }
      },
      "execution_count": 16,
      "outputs": [
        {
          "output_type": "execute_result",
          "data": {
            "text/plain": [
              "0.04695453969861973"
            ]
          },
          "metadata": {},
          "execution_count": 16
        }
      ]
    },
    {
      "cell_type": "code",
      "source": [
        "roe_q2 = tax_burden_q2*interest_burden_q2*operating_profit_margin_q2*asset_turnover_q2*financial_leverage_ratio_q2\n",
        "roe_q3 = tax_burden_q3*interest_burden_q3*operating_profit_margin_q3*asset_turnover_q3*financial_leverage_ratio_q3"
      ],
      "metadata": {
        "id": "EVtrsl9pEQ-7"
      },
      "execution_count": 17,
      "outputs": []
    },
    {
      "cell_type": "code",
      "source": [
        "roe_q2"
      ],
      "metadata": {
        "colab": {
          "base_uri": "https://localhost:8080/"
        },
        "id": "SLSrWirLEew0",
        "outputId": "0a69c6dd-3e7e-4832-bad7-cec6806c839e"
      },
      "execution_count": 18,
      "outputs": [
        {
          "output_type": "execute_result",
          "data": {
            "text/plain": [
              "0.13726731670254527"
            ]
          },
          "metadata": {},
          "execution_count": 18
        }
      ]
    },
    {
      "cell_type": "code",
      "source": [
        "roe_q2\n",
        "roe_q3"
      ],
      "metadata": {
        "colab": {
          "base_uri": "https://localhost:8080/"
        },
        "id": "FE9_zARxEY2f",
        "outputId": "e1ea488d-7813-4b48-9487-f0f75f535bf7"
      },
      "execution_count": 19,
      "outputs": [
        {
          "output_type": "execute_result",
          "data": {
            "text/plain": [
              "-0.16188425984551094"
            ]
          },
          "metadata": {},
          "execution_count": 19
        }
      ]
    },
    {
      "cell_type": "code",
      "source": [
        "roe_scores = {'Quarter': ['Q1', 'Q2', 'Q3'],\n",
        "            'ROE': [roe_q3, roe_q2, roe_q1]}\n",
        "df = pd.DataFrame(roe_scores)\n",
        "df.set_index('Quarter', inplace=True)\n",
        "df.plot(kind='line')\n",
        "plt.xlabel('Quarter')\n",
        "plt.ylabel('ROE')\n",
        "plt.title('ROE for Three Quarters')\n",
        "plt.legend(title='Variables')\n",
        "plt.show()"
      ],
      "metadata": {
        "colab": {
          "base_uri": "https://localhost:8080/",
          "height": 472
        },
        "id": "fjvJZiSDFTjF",
        "outputId": "e187c80a-124f-405d-92c1-21fdf59908b8"
      },
      "execution_count": 20,
      "outputs": [
        {
          "output_type": "display_data",
          "data": {
            "text/plain": [
              "<Figure size 640x480 with 1 Axes>"
            ],
            "image/png": "[encoded data removed]"
          },
          "metadata": {}
        }
      ]
    },
    {
      "cell_type": "code",
      "source": [
        "response4 = openai.Completion.create(\n",
        "  model=\"text-davinci-003\",\n",
        "  prompt=f\"DuPont Analysis is a framework used to break apart the underlying ratio components of the return on equity (ROE) metric to determine the strengths and weaknesses of a company.\\n\\nRoE obtained by 5 step dupont analysis for 3 quarters : {roe_q1}, {roe_q2}, {roe_q3}. Analyse these values, compare them and give inferences.\",\n",
        "  temperature=1,\n",
        "  max_tokens=256,\n",
        "  top_p=1,\n",
        "  frequency_penalty=0,\n",
        "  presence_penalty=0\n",
        ")"
      ],
      "metadata": {
        "id": "slFnsnmr7E3n"
      },
      "execution_count": 21,
      "outputs": []
    },
    {
      "cell_type": "code",
      "source": [
        "print(response4.choices[0].text)"
      ],
      "metadata": {
        "colab": {
          "base_uri": "https://localhost:8080/"
        },
        "id": "_9p8Wfhz7mhZ",
        "outputId": "3f5e773a-890a-4a5b-e154-0c79d8f950b2"
      },
      "execution_count": 22,
      "outputs": [
        {
          "output_type": "stream",
          "name": "stdout",
          "text": [
            "\n",
            "\n",
            "These three RoE values reflect the company's performance over the past three quarters. The first value of 0.04695453969861973 indicates that the company had a slightly positive return on equity, suggesting that it is a relatively healthy company. The second value of 0.13726731670254527 is substantially higher, indicating that the company had a strong performance in the quarter, with profits being generated from the capital employed. The third value of -0.16188425984551094 suggests that the company had losses in the third quarter, meaning the company's profits were unable to cover its operating costs. \n",
            "\n",
            "Overall, the DuPont analysis indicates that the company had a generally positive trend of returns on equity in the past three quarters, but experienced losses in the most recent quarter. This could be concerning, and suggests that the company needs to find ways to reduce its operating costs and improve its return on equity in the future.\n"
          ]
        }
      ]
    },
    {
      "cell_type": "markdown",
      "source": [
        "# Growth rate"
      ],
      "metadata": {
        "id": "DU1fh8PgcI5F"
      }
    },
    {
      "cell_type": "code",
      "source": [
        "growth_rate_q1 = retention_rate_q1 * roe_q1\n",
        "growth_rate_q2 = retention_rate_q2 * roe_q2\n",
        "growth_rate_q3 = retention_rate_q3 * roe_q3\n",
        "growth_rate_q1"
      ],
      "metadata": {
        "id": "VKhHZinlwdTX",
        "colab": {
          "base_uri": "https://localhost:8080/"
        },
        "outputId": "0f5890c9-76a4-401b-8ba7-0bdb039e13fb"
      },
      "execution_count": 23,
      "outputs": [
        {
          "output_type": "execute_result",
          "data": {
            "text/plain": [
              "-0.02887172343928074"
            ]
          },
          "metadata": {},
          "execution_count": 23
        }
      ]
    },
    {
      "cell_type": "code",
      "source": [
        "growth_rate_q2"
      ],
      "metadata": {
        "colab": {
          "base_uri": "https://localhost:8080/"
        },
        "id": "E3tKhHeOE7Pr",
        "outputId": "9efd767a-fd69-48eb-ee4b-0761b079dcc8"
      },
      "execution_count": 24,
      "outputs": [
        {
          "output_type": "execute_result",
          "data": {
            "text/plain": [
              "0.061593010003798916"
            ]
          },
          "metadata": {},
          "execution_count": 24
        }
      ]
    },
    {
      "cell_type": "code",
      "source": [
        "growth_rate_q3"
      ],
      "metadata": {
        "colab": {
          "base_uri": "https://localhost:8080/"
        },
        "id": "W_BlsUKQE9lu",
        "outputId": "3c2e3c57-0f74-4779-8648-e54998cf169b"
      },
      "execution_count": 25,
      "outputs": [
        {
          "output_type": "execute_result",
          "data": {
            "text/plain": [
              "-0.2374066101051032"
            ]
          },
          "metadata": {},
          "execution_count": 25
        }
      ]
    },
    {
      "cell_type": "code",
      "source": [
        "growth_scores = {'Quarter': ['Q1', 'Q2', 'Q3'],\n",
        "            'Growth rate': [growth_rate_q3, growth_rate_q2, growth_rate_q1]}\n",
        "df = pd.DataFrame(growth_scores)\n",
        "df.set_index('Quarter', inplace=True)\n",
        "df.plot(kind='line')\n",
        "plt.xlabel('Quarter')\n",
        "plt.ylabel('ROE')\n",
        "plt.title('Growth rate for Three Quarters')\n",
        "plt.legend(title='Variables')\n",
        "plt.show()"
      ],
      "metadata": {
        "colab": {
          "base_uri": "https://localhost:8080/",
          "height": 472
        },
        "id": "qyiiQUfjGBiW",
        "outputId": "d356d721-3b86-4063-855f-ff6aad99f3ac"
      },
      "execution_count": 26,
      "outputs": [
        {
          "output_type": "display_data",
          "data": {
            "text/plain": [
              "<Figure size 640x480 with 1 Axes>"
            ],
            "image/png": "[encoded data removed]"
          },
          "metadata": {}
        }
      ]
    },
    {
      "cell_type": "code",
      "source": [
        "\n",
        "response2 = openai.Completion.create(\n",
        "  model=\"text-davinci-003\",\n",
        "  prompt=f\"Given the Growth rate of a company, analyse it and give key inferences from it. If it is negative, suggest ways to improve it. Growth rate is calculated by multiplying retention rate and Return on equity.\\n\\nGrowth rate for 3 quarters : {growth_rate_q1}, {growth_rate_q2}, {growth_rate_q3} respectively\",\n",
        "  temperature=1,\n",
        "  max_tokens=256,\n",
        "  top_p=1,\n",
        "  frequency_penalty=0,\n",
        "  presence_penalty=0\n",
        ")"
      ],
      "metadata": {
        "id": "BVQ9vtgjtzMQ"
      },
      "execution_count": 58,
      "outputs": []
    },
    {
      "cell_type": "code",
      "source": [
        "print(response2.choices[0].text)"
      ],
      "metadata": {
        "colab": {
          "base_uri": "https://localhost:8080/"
        },
        "id": "pArtQjMc1z6o",
        "outputId": "12a85572-fcec-4754-b95f-f94b113d7d84"
      },
      "execution_count": 59,
      "outputs": [
        {
          "output_type": "stream",
          "name": "stdout",
          "text": [
            "\n",
            "\n",
            "The growth rate of the company's operations for the past 3 quarters has been negative 0.02887172343928074, positive 0.061593010003798916, and negative 0.2374066101051032 respectively.\n",
            "\n",
            "Based on these values, we can infer that the company's growth rate is in question. It appears that the company has not been able to generate profits at a rate that can keep up with inflation or cost of capital increases. Additionally, the company may have not been able to generate enough revenue to cover its expenses or to increase its reinvestment rate, resulting in a negative growth rate.\n",
            "\n",
            "To improve the growth rate, the company needs to take a look at its retention rate and return on equity. The company should focus on retaining more of its customers, as this will help boost revenue. The company should also look to increase its return on equity by increasing the amount of money it invests in its operations. Increasing R&D spending, expanding its product portfolio, and leveraging technology can all help increase ROE. Additionally, the company should look for ways to improve operational efficiency, such as automation, to reduce costs and increase profits. Finally, diversifying income sources and exploring new markets can also help the\n"
          ]
        }
      ]
    },
    {
      "cell_type": "markdown",
      "source": [
        "# Altman z score"
      ],
      "metadata": {
        "id": "Lmm44cge7uTr"
      }
    },
    {
      "cell_type": "code",
      "source": [
        "def get_z_score(is_q1, is_q2, is_q3, is_q4, bs_q1, bs_q2, bs_q3, bs_q4, cf_q1, cf_q2, cf_q3, cf_q4, share_price, quarter):\n",
        "  if quarter == 'q1':\n",
        "    is_data = is_q1\n",
        "    bs_data = bs_q1\n",
        "    cf_data = cf_q1\n",
        "    is_data_2 = is_q2\n",
        "    bs_data_2 = bs_q2\n",
        "    cf_data_2 = cf_q2\n",
        "\n",
        "  elif quarter == 'q2':\n",
        "    is_data = is_q2\n",
        "    bs_data = bs_q2\n",
        "    cf_data = cf_q2\n",
        "    is_data_2 = is_q3\n",
        "    bs_data_2 = bs_q3\n",
        "    cf_data_2 = cf_q3\n",
        "\n",
        "  else:\n",
        "    is_data = is_q3\n",
        "    bs_data = bs_q3\n",
        "    cf_data = cf_q3\n",
        "    is_data_2 = is_q4\n",
        "    bs_data_2 = bs_q4\n",
        "    cf_data_2 = cf_q4\n",
        "\n",
        "\n",
        "  retained_earnings = float(cf_data['netIncome']) - float(cf_data['dividendPayout'])\n",
        "  EBIT = float(is_data['grossProfit']) - float(is_data['operatingExpenses'])\n",
        "  z1 = (float(bs_data[\"totalCurrentAssets\"]) - float(bs_data[\"totalCurrentLiabilities\"]))/float(bs_data[\"totalAssets\"])\n",
        "  z2 = 1.4 * (retained_earnings/float(bs_data[\"totalAssets\"]))\n",
        "  z3 = 3.3 * (EBIT/float(bs_data[\"totalAssets\"]))\n",
        "  z4 = 0.6 * (float(bs_data['commonStockSharesOutstanding'])*share_price)/float(bs_data['totalLiabilities'])\n",
        "  z5 = 1 * (float(is_data['totalRevenue'])/float(bs_data['totalAssets']))\n",
        "\n",
        "  return z1 + z2 + z3 + z4 + z5\n"
      ],
      "metadata": {
        "id": "_-F_U8mhcYDG"
      },
      "execution_count": 29,
      "outputs": []
    },
    {
      "cell_type": "code",
      "source": [
        "z_score_q1 = get_z_score(is_q1, is_q2, is_q3, is_q4, bs_q1, bs_q2, bs_q3, bs_q4, cf_q1, cf_q2, cf_q3, cf_q4, share_price, \"q1\")"
      ],
      "metadata": {
        "id": "5Qyezj7N3FI6"
      },
      "execution_count": 30,
      "outputs": []
    },
    {
      "cell_type": "code",
      "source": [
        "z_score_q2 = get_z_score(is_q1, is_q2, is_q3, is_q4, bs_q1, bs_q2, bs_q3, bs_q4, cf_q1, cf_q2, cf_q3, cf_q4, share_price, \"q2\")\n",
        "z_score_q3 = get_z_score(is_q1, is_q2, is_q3, is_q4, bs_q1, bs_q2, bs_q3, bs_q4, cf_q1, cf_q2, cf_q3, cf_q4, share_price, \"q3\")"
      ],
      "metadata": {
        "id": "06D15rPD7C3D"
      },
      "execution_count": 31,
      "outputs": []
    },
    {
      "cell_type": "code",
      "source": [
        "z_score_q1"
      ],
      "metadata": {
        "colab": {
          "base_uri": "https://localhost:8080/"
        },
        "id": "Wf8A3lRid9Pu",
        "outputId": "41cb4c97-03a0-4f96-be25-7208b2a6cc5e"
      },
      "execution_count": 32,
      "outputs": [
        {
          "output_type": "execute_result",
          "data": {
            "text/plain": [
              "0.8165171884270418"
            ]
          },
          "metadata": {},
          "execution_count": 32
        }
      ]
    },
    {
      "cell_type": "code",
      "source": [
        "z_score_q2"
      ],
      "metadata": {
        "colab": {
          "base_uri": "https://localhost:8080/"
        },
        "id": "M7Gfph3A7Lpy",
        "outputId": "bf57bcc5-f038-422e-db2c-f2f8235ab951"
      },
      "execution_count": 33,
      "outputs": [
        {
          "output_type": "execute_result",
          "data": {
            "text/plain": [
              "0.9253621823938083"
            ]
          },
          "metadata": {},
          "execution_count": 33
        }
      ]
    },
    {
      "cell_type": "code",
      "source": [
        "z_score_q3"
      ],
      "metadata": {
        "colab": {
          "base_uri": "https://localhost:8080/"
        },
        "id": "RLbYisTv7OsB",
        "outputId": "c66148e8-9cc2-42e2-fe91-1ee81f9e3f4e"
      },
      "execution_count": 34,
      "outputs": [
        {
          "output_type": "execute_result",
          "data": {
            "text/plain": [
              "0.7961859567497119"
            ]
          },
          "metadata": {},
          "execution_count": 34
        }
      ]
    },
    {
      "cell_type": "code",
      "source": [
        "z_scores = {'Quarter': ['Q1', 'Q2', 'Q3'],\n",
        "            'Value 1': [z_score_q3, z_score_q2, z_score_q1]}\n",
        "df = pd.DataFrame(z_scores)\n",
        "df.set_index('Quarter', inplace=True)\n",
        "df.plot(kind='bar')\n",
        "plt.xlabel('Quarter')\n",
        "plt.ylabel('Z-score')\n",
        "plt.title('Z-scores for Three Quarters')\n",
        "plt.legend(title='Variables')\n",
        "plt.show()"
      ],
      "metadata": {
        "colab": {
          "base_uri": "https://localhost:8080/",
          "height": 477
        },
        "id": "dd1HwFQsGcTO",
        "outputId": "7849a01f-48b5-40d7-b662-232120630733"
      },
      "execution_count": 35,
      "outputs": [
        {
          "output_type": "display_data",
          "data": {
            "text/plain": [
              "<Figure size 640x480 with 1 Axes>"
            ],
            "image/png": "[encoded data removed]"
          },
          "metadata": {}
        }
      ]
    },
    {
      "cell_type": "code",
      "source": [
        "z_score_prompt = f\"You will be given the z score of a company. Analyse it based on the following criteria \\ni) z score < 1.8 = bankrupt\\nii) 1.8<z score<2.6 = Grey zone\\niii) z score > 2.6 = safe zone \\nand give inference about it. If it is not a good score what can the company do to improve it. \\n\\nZ score for the past 3 quarters are {z_score_q1}, {z_score_q2} and {z_score_q3}  respectively\""
      ],
      "metadata": {
        "id": "IUV4YA_7u40n"
      },
      "execution_count": 36,
      "outputs": []
    },
    {
      "cell_type": "code",
      "source": [
        "\n",
        "response = openai.Completion.create(\n",
        "  model=\"text-davinci-003\",\n",
        "  prompt=z_score_prompt,\n",
        "  temperature=1,\n",
        "  max_tokens=256,\n",
        "  top_p=1,\n",
        "  frequency_penalty=0,\n",
        "  presence_penalty=0\n",
        ")"
      ],
      "metadata": {
        "id": "GwTLhiC2oS90"
      },
      "execution_count": 37,
      "outputs": []
    },
    {
      "cell_type": "code",
      "source": [
        "print(response.choices[0].text)"
      ],
      "metadata": {
        "colab": {
          "base_uri": "https://localhost:8080/"
        },
        "id": "PT0TJPLmt3z5",
        "outputId": "4e5905f0-6a8f-41cb-9470-b161872ef087"
      },
      "execution_count": 38,
      "outputs": [
        {
          "output_type": "stream",
          "name": "stdout",
          "text": [
            ".\n",
            "\n",
            "The company's overall z score falls into the bankrupt category (< 1.8). This indicates a high financial risk with poor creditworthiness and significant potential of financial distress. The company should take necessary measures to improve their z score such as increasing its current ratio and reducing its debt to equity ratio. It should also look at reducing costs and increasing revenues to improve its profits. Additionally, the company should focus on improving its liquidity position by optimizing its working capital and maintaining its debt service coverage ratio within an acceptable range.\n"
          ]
        }
      ]
    },
    {
      "cell_type": "markdown",
      "source": [
        "# Cash Conversion Cycle (**CCC**)"
      ],
      "metadata": {
        "id": "SaeAqS2qCWn4"
      }
    },
    {
      "cell_type": "code",
      "source": [
        "def get_ccc(bs_q1, bs_q2, bs_q3, bs_q4, is_q1, is_q2, is_q3, is_q4, cf_q1, cf_q2, cf_q3, cf_q4, quarter):\n",
        "  if quarter == 'q1':\n",
        "    is_data = is_q1\n",
        "    bs_data = bs_q1\n",
        "    cf_data = cf_q1\n",
        "    is_data_2 = is_q2\n",
        "    bs_data_2 = bs_q2\n",
        "    cf_data_2 = cf_q2\n",
        "\n",
        "  elif quarter == 'q2':\n",
        "    is_data = is_q2\n",
        "    bs_data = bs_q2\n",
        "    cf_data = cf_q2\n",
        "    is_data_2 = is_q3\n",
        "    bs_data_2 = bs_q3\n",
        "    cf_data_2 = cf_q3\n",
        "\n",
        "  else:\n",
        "    is_data = is_q3\n",
        "    bs_data = bs_q3\n",
        "    cf_data = cf_q3\n",
        "    is_data_2 = is_q4\n",
        "    bs_data_2 = bs_q4\n",
        "    cf_data_2 = cf_q4\n",
        "\n",
        "  receivable_turnover = float(is_data['totalRevenue']) / ((float(bs_data['currentNetReceivables'])+float(bs_data_2['currentNetReceivables']))/2)\n",
        "  days_of_sale_outstanding = 365 / receivable_turnover\n",
        "  inventory_turnover = float(is_data['costofGoodsAndServicesSold']) / ((float(bs_data['inventory'])+float(bs_data_2['inventory']))/2)\n",
        "  days_of_inventory_on_hand = 365 / inventory_turnover\n",
        "  purchase = float(bs_data['inventory']) - float(bs_data_2['inventory']) + float(is_data['costofGoodsAndServicesSold'])\n",
        "  average_trade_payables = (float(bs_data['currentAccountsPayable']) + float(bs_data_2['currentAccountsPayable'])) / 2\n",
        "  payables_turnover = purchase / average_trade_payables\n",
        "  number_of_days_of_payables = 365 / payables_turnover\n",
        "  ccc = days_of_sale_outstanding + days_of_inventory_on_hand - number_of_days_of_payables\n",
        "\n",
        "  return ccc"
      ],
      "metadata": {
        "id": "ND0mbUnhe3ik"
      },
      "execution_count": 39,
      "outputs": []
    },
    {
      "cell_type": "code",
      "source": [
        "ccc_q1 = get_ccc(bs_q1, bs_q2, bs_q3, bs_q4, is_q1, is_q2, is_q3, is_q4, cf_q1, cf_q2, cf_q3, cf_q4, 'q1')\n",
        "ccc_q2 = get_ccc(bs_q1, bs_q2, bs_q3, bs_q4, is_q1, is_q2, is_q3, is_q4, cf_q1, cf_q2, cf_q3, cf_q4, 'q2')\n",
        "ccc_q3 = get_ccc(bs_q1, bs_q2, bs_q3, bs_q4, is_q1, is_q2, is_q3, is_q4, cf_q1, cf_q2, cf_q3, cf_q4, 'q3')"
      ],
      "metadata": {
        "id": "TuIFXz9lmxfB"
      },
      "execution_count": 40,
      "outputs": []
    },
    {
      "cell_type": "code",
      "source": [
        "ccc_q1"
      ],
      "metadata": {
        "colab": {
          "base_uri": "https://localhost:8080/"
        },
        "id": "W8ixTE-jm9s3",
        "outputId": "c34c8bbc-8955-49d0-dec0-fbcb155abb64"
      },
      "execution_count": 41,
      "outputs": [
        {
          "output_type": "execute_result",
          "data": {
            "text/plain": [
              "2009.7854946933985"
            ]
          },
          "metadata": {},
          "execution_count": 41
        }
      ]
    },
    {
      "cell_type": "code",
      "source": [
        "ccc_q2"
      ],
      "metadata": {
        "colab": {
          "base_uri": "https://localhost:8080/"
        },
        "id": "7ar1jBHI8QVa",
        "outputId": "fc605378-dff7-4663-a168-b5bbe40fb823"
      },
      "execution_count": 42,
      "outputs": [
        {
          "output_type": "execute_result",
          "data": {
            "text/plain": [
              "31013.108434527694"
            ]
          },
          "metadata": {},
          "execution_count": 42
        }
      ]
    },
    {
      "cell_type": "code",
      "source": [
        "ccc_q3"
      ],
      "metadata": {
        "colab": {
          "base_uri": "https://localhost:8080/"
        },
        "id": "H1pfZ9N_8i_I",
        "outputId": "10552805-c604-4707-e0c4-5ab166c4ea5b"
      },
      "execution_count": 43,
      "outputs": [
        {
          "output_type": "execute_result",
          "data": {
            "text/plain": [
              "3092.466670007334"
            ]
          },
          "metadata": {},
          "execution_count": 43
        }
      ]
    },
    {
      "cell_type": "code",
      "source": [
        "ccc = {'Quarter': ['Q1', 'Q2', 'Q3'],\n",
        "            'Value 1': [ccc_q3, ccc_q2, ccc_q1]}\n",
        "df = pd.DataFrame(ccc)\n",
        "df.set_index('Quarter', inplace=True)\n",
        "df.plot(kind='line')\n",
        "plt.xlabel('Quarter')\n",
        "plt.ylabel('Cash convertion cycle')\n",
        "plt.title('Cash convertion cycle for Three Quarters')\n",
        "plt.legend(title='Variables')\n",
        "plt.show()"
      ],
      "metadata": {
        "colab": {
          "base_uri": "https://localhost:8080/",
          "height": 472
        },
        "id": "HWiup-MWGpGb",
        "outputId": "201bfba9-5dc9-45b3-841c-249fd5612b98"
      },
      "execution_count": 44,
      "outputs": [
        {
          "output_type": "display_data",
          "data": {
            "text/plain": [
              "<Figure size 640x480 with 1 Axes>"
            ],
            "image/png": "[encoded data removed]"
          },
          "metadata": {}
        }
      ]
    },
    {
      "cell_type": "code",
      "source": [
        "\n",
        "response3 = openai.Completion.create(\n",
        "  model=\"text-davinci-003\",\n",
        "  prompt=f\"Given the cash conversion cycle of a company, analyse it and give key inferences from it. The cash conversion cycle (CCC) – also known as the cash cycle – is a metric expressing how many days it takes a company to convert the cash it spends on inventory back into cash by selling its product. The shorter a company's CCC, the less time it has money tied up in accounts receivable and inventory. If it is large, suggest ways to shortern it. \\n\\nCCC for 3 quarters : {ccc_q1}, {ccc_q2}, {ccc_q3} respectively.\",\n",
        "  temperature=1,\n",
        "  max_tokens=256,\n",
        "  top_p=1,\n",
        "  frequency_penalty=0,\n",
        "  presence_penalty=0\n",
        ")"
      ],
      "metadata": {
        "id": "p5Na-tQK161y"
      },
      "execution_count": 45,
      "outputs": []
    },
    {
      "cell_type": "code",
      "source": [
        "print(response3.choices[0].text)"
      ],
      "metadata": {
        "colab": {
          "base_uri": "https://localhost:8080/"
        },
        "id": "NSrS6eKL3uEL",
        "outputId": "ffd7bb9b-a794-4151-e98b-b97b7a7a46a9"
      },
      "execution_count": 46,
      "outputs": [
        {
          "output_type": "stream",
          "name": "stdout",
          "text": [
            "\n",
            "\n",
            "The analysis of these three quarters suggests that the cash conversion cycle of the company is relatively high. This means that the company is taking longer than average to convert cash spent on inventory into cash by selling products. To shorten the CCC, the company can consider implementing strategies such as: improving purchase order processing, ensuring efficient inventory management, training employees in accounts receivable, and offering payment incentives or discounts to customers. These strategies will likely result in faster cash sales, ultimately leading to a shorter cash conversion cycle.\n"
          ]
        }
      ]
    },
    {
      "cell_type": "markdown",
      "source": [
        "# Liquidity ratios"
      ],
      "metadata": {
        "id": "f42QpZltyySh"
      }
    },
    {
      "cell_type": "code",
      "source": [
        "def get_liquidity_ratios(bs_q1, bs_q2, bs_q3, bs_q4, is_q1, is_q2, is_q3, is_q4, cf_q1, cf_q2, cf_q3, cf_q4, quarter):\n",
        "  if quarter == 'q1':\n",
        "    is_data = is_q1\n",
        "    bs_data = bs_q1\n",
        "    cf_data = cf_q1\n",
        "    is_data_2 = is_q2\n",
        "    bs_data_2 = bs_q2\n",
        "    cf_data_2 = cf_q2\n",
        "\n",
        "  elif quarter == 'q2':\n",
        "    is_data = is_q2\n",
        "    bs_data = bs_q2\n",
        "    cf_data = cf_q2\n",
        "    is_data_2 = is_q3\n",
        "    bs_data_2 = bs_q3\n",
        "    cf_data_2 = cf_q3\n",
        "\n",
        "  else:\n",
        "    is_data = is_q3\n",
        "    bs_data = bs_q3\n",
        "    cf_data = cf_q3\n",
        "    is_data_2 = is_q4\n",
        "    bs_data_2 = bs_q4\n",
        "    cf_data_2 = cf_q4\n",
        "\n",
        "\n",
        "  current_assets = float(bs_data['totalCurrentAssets'])\n",
        "  current_liabilities = float(bs_data['totalCurrentLiabilities'])\n",
        "  quick_n = float(bs_data['cashAndCashEquivalentsAtCarryingValue']) + float(bs_data['currentNetReceivables'])\n",
        "  cash_n = float(bs_data['cashAndCashEquivalentsAtCarryingValue'])\n",
        "  current_ratio = current_assets / current_liabilities\n",
        "  quick_ratio = quick_n / current_liabilities\n",
        "  cash_ratio = cash_n / current_liabilities\n",
        "  defensive_interval = quick_n / ((float(is_data['totalRevenue']) - float(is_data['netIncome']))/365)\n",
        "\n",
        "  return current_ratio, quick_ratio, cash_ratio, defensive_interval\n",
        "\n"
      ],
      "metadata": {
        "id": "cTn-NPyKn-qx"
      },
      "execution_count": 47,
      "outputs": []
    },
    {
      "cell_type": "code",
      "source": [
        "current_ratio_q1, quick_ratio_q1, cash_ratio_q1, defensive_interval_q1 = get_liquidity_ratios(bs_q1, bs_q2, bs_q3, bs_q4, is_q1, is_q2, is_q3, is_q4, cf_q1, cf_q2, cf_q3, cf_q4, 'q1')"
      ],
      "metadata": {
        "id": "D8MyucWiowz-"
      },
      "execution_count": 48,
      "outputs": []
    },
    {
      "cell_type": "code",
      "source": [
        "current_ratio_q2, quick_ratio_q2, cash_ratio_q2, defensive_interval_q2 = get_liquidity_ratios(bs_q1, bs_q2, bs_q3, bs_q4, is_q1, is_q2, is_q3, is_q4, cf_q1, cf_q2, cf_q3, cf_q4, 'q2')\n",
        "current_ratio_q3, quick_ratio_q3, cash_ratio_q3, defensive_interval_q3 = get_liquidity_ratios(bs_q1, bs_q2, bs_q3, bs_q4, is_q1, is_q2, is_q3, is_q4, cf_q1, cf_q2, cf_q3, cf_q4, 'q3')"
      ],
      "metadata": {
        "id": "IOixg0u6pbGb"
      },
      "execution_count": 49,
      "outputs": []
    },
    {
      "cell_type": "markdown",
      "source": [
        "## Solvency Ratios"
      ],
      "metadata": {
        "id": "KrNvqNtC2d2C"
      }
    },
    {
      "cell_type": "code",
      "source": [
        "def get_solvency_ratios(bs_q1, bs_q2, bs_q3, bs_q4, is_q1, is_q2, is_q3, is_q4, cf_q1, cf_q2, cf_q3, cf_q4, quarter):\n",
        "  if quarter == 'q1':\n",
        "    is_data = is_q1\n",
        "    bs_data = bs_q1\n",
        "    cf_data = cf_q1\n",
        "    is_data_2 = is_q2\n",
        "    bs_data_2 = bs_q2\n",
        "    cf_data_2 = cf_q2\n",
        "\n",
        "  elif quarter == 'q2':\n",
        "    is_data = is_q2\n",
        "    bs_data = bs_q2\n",
        "    cf_data = cf_q2\n",
        "    is_data_2 = is_q3\n",
        "    bs_data_2 = bs_q3\n",
        "    cf_data_2 = cf_q3\n",
        "\n",
        "  else:\n",
        "    is_data = is_q3\n",
        "    bs_data = bs_q3\n",
        "    cf_data = cf_q3\n",
        "    is_data_2 = is_q4\n",
        "    bs_data_2 = bs_q4\n",
        "    cf_data_2 = cf_q4\n",
        "\n",
        "  total_debt = float(bs_data['longTermDebt']) + float(bs_data['shortTermDebt'])\n",
        "  total_shareholder_equity = float(bs_data['totalShareholderEquity'])\n",
        "  total_assets = float(bs_data['totalAssets'])\n",
        "  interest_expenses = float(is_data['interestExpense'])\n",
        "  EBIT = float(is_data['grossProfit']) - float(is_data['operatingExpenses'])\n",
        "\n",
        "  debt_to_equity = total_debt / total_shareholder_equity\n",
        "  debt_to_capital = total_debt / (total_debt + total_shareholder_equity)\n",
        "  debt_to_assets = total_debt / total_assets\n",
        "  financial_leverage = average_assets / average_equity\n",
        "  interest_coverage = EBIT / interest_expenses\n",
        "\n",
        "  return debt_to_equity, debt_to_capital, debt_to_assets, financial_leverage, interest_coverage\n",
        "\n",
        "\n"
      ],
      "metadata": {
        "id": "cwxMkWFm4F_Z"
      },
      "execution_count": 50,
      "outputs": []
    },
    {
      "cell_type": "code",
      "source": [
        "debt_to_equity_q1, debt_to_capital_q1, debt_to_assets_q1, financial_leverage_q1, interest_coverage_q1 = get_solvency_ratios(bs_q1, bs_q2, bs_q3, bs_q4, is_q1, is_q2, is_q3, is_q4, cf_q1, cf_q2, cf_q3, cf_q4, 'q1')\n",
        "debt_to_equity_q2, debt_to_capital_q2, debt_to_assets_q2, financial_leverage_q2, interest_coverage_q2 = get_solvency_ratios(bs_q1, bs_q2, bs_q3, bs_q4, is_q1, is_q2, is_q3, is_q4, cf_q1, cf_q2, cf_q3, cf_q4, 'q2')\n",
        "debt_to_equity_q3, debt_to_capital_q3, debt_to_assets_q3, financial_leverage_q3, interest_coverage_q3 = get_solvency_ratios(bs_q1, bs_q2, bs_q3, bs_q4, is_q1, is_q2, is_q3, is_q4, cf_q1, cf_q2, cf_q3, cf_q4, 'q3')"
      ],
      "metadata": {
        "id": "wIyXcxKc_v3I"
      },
      "execution_count": 51,
      "outputs": []
    },
    {
      "cell_type": "markdown",
      "source": [
        "## Profitability Ratios"
      ],
      "metadata": {
        "id": "YHkLzk545kaX"
      }
    },
    {
      "cell_type": "code",
      "source": [
        "def get_profitabilty_ratios(bs_q1, bs_q2, bs_q3, bs_q4, is_q1, is_q2, is_q3, is_q4, cf_q1, cf_q2, cf_q3, cf_q4, quarter):\n",
        "  if quarter == 'q1':\n",
        "    is_data = is_q1\n",
        "    bs_data = bs_q1\n",
        "    cf_data = cf_q1\n",
        "    is_data_2 = is_q2\n",
        "    bs_data_2 = bs_q2\n",
        "    cf_data_2 = cf_q2\n",
        "\n",
        "  elif quarter == 'q2':\n",
        "    is_data = is_q2\n",
        "    bs_data = bs_q2\n",
        "    cf_data = cf_q2\n",
        "    is_data_2 = is_q3\n",
        "    bs_data_2 = bs_q3\n",
        "    cf_data_2 = cf_q3\n",
        "\n",
        "  else:\n",
        "    is_data = is_q3\n",
        "    bs_data = bs_q3\n",
        "    cf_data = cf_q3\n",
        "    is_data_2 = is_q4\n",
        "    bs_data_2 = bs_q4\n",
        "    cf_data_2 = cf_q4\n",
        "\n",
        "  gross_profit = float(is_data['grossProfit'])\n",
        "  total_debt = float(bs_data['longTermDebt']) + float(bs_data['shortTermDebt'])\n",
        "  net_income = float(is_data['netIncome'])\n",
        "  average_total_capital = ((float(bs_data['totalShareholderEquity']) + float(bs_data['totalShareholderEquity'])) / 2) + ((total_debt + float(bs_data_2['longTermDebt']) + float(bs_data_2['shortTermDebt']))/2)\n",
        "  EBT = float(is_data['incomeBeforeTax'])\n",
        "  EBIT = float(is_data['grossProfit']) - float(is_data['operatingExpenses'])\n",
        "  revenue = float(is_data['totalRevenue'])\n",
        "  operating_profit_margin = EBIT/revenue\n",
        "\n",
        "\n",
        "  gross_profit_margin = gross_profit / revenue\n",
        "  net_profit_margin = net_income / revenue\n",
        "  operating_profit_margin\n",
        "  pre_tax_profit_margin = EBT / revenue\n",
        "\n",
        "  ROA = net_income / average_assets\n",
        "  operating_roa = EBIT / average_assets\n",
        "  ROC = EBIT / average_total_capital\n",
        "  ROE = net_income / average_equity\n",
        "\n",
        "  return ROA, operating_roa, ROC, ROE"
      ],
      "metadata": {
        "id": "RAizUsEcAS-K"
      },
      "execution_count": 52,
      "outputs": []
    },
    {
      "cell_type": "code",
      "source": [
        "roa_q1, operating_roa_q1, roc_q1, roe_q1 =  get_profitabilty_ratios(bs_q1, bs_q2, bs_q3, bs_q4, is_q1, is_q2, is_q3, is_q4, cf_q1, cf_q2, cf_q3, cf_q4, 'q1')\n",
        "roa_q2, operating_roa_q2, roc_q2, roe_q2 =  get_profitabilty_ratios(bs_q1, bs_q2, bs_q3, bs_q4, is_q1, is_q2, is_q3, is_q4, cf_q1, cf_q2, cf_q3, cf_q4, 'q2')\n",
        "roa_q3, operating_roa_q3, roc_q3, roe_q3 =  get_profitabilty_ratios(bs_q1, bs_q2, bs_q3, bs_q4, is_q1, is_q2, is_q3, is_q4, cf_q1, cf_q2, cf_q3, cf_q4, 'q3')"
      ],
      "metadata": {
        "id": "FPvoasOdBtcf"
      },
      "execution_count": 53,
      "outputs": []
    },
    {
      "cell_type": "markdown",
      "source": [
        "\n",
        "\n",
        "## Equity analysis"
      ],
      "metadata": {
        "id": "PzZ4PlDm945y"
      }
    },
    {
      "cell_type": "code",
      "source": [
        "def get_equity_analysis(bs_q1, bs_q2, bs_q3, bs_q4, is_q1, is_q2, is_q3, is_q4, cf_q1, cf_q2, cf_q3, cf_q4, quarter):\n",
        "  if quarter == 'q1':\n",
        "    is_data = is_q1\n",
        "    bs_data = bs_q1\n",
        "    cf_data = cf_q1\n",
        "    is_data_2 = is_q2\n",
        "    bs_data_2 = bs_q2\n",
        "    cf_data_2 = cf_q2\n",
        "\n",
        "  elif quarter == 'q2':\n",
        "    is_data = is_q2\n",
        "    bs_data = bs_q2\n",
        "    cf_data = cf_q2\n",
        "    is_data_2 = is_q3\n",
        "    bs_data_2 = bs_q3\n",
        "    cf_data_2 = cf_q3\n",
        "\n",
        "  else:\n",
        "    is_data = is_q3\n",
        "    bs_data = bs_q3\n",
        "    cf_data = cf_q3\n",
        "    is_data_2 = is_q4\n",
        "    bs_data_2 = bs_q4\n",
        "    cf_data_2 = cf_q4\n",
        "\n",
        "  outstanding_common_shares = (float(bs_data['commonStockSharesOutstanding']))\n",
        "  divident_per_share = float(cf_data['dividendPayout']) / outstanding_common_shares\n",
        "  net_income = float(is_data['netIncome'])\n",
        "\n",
        "  eps = net_income / outstanding_common_shares\n",
        "  pe = share_price / eps\n",
        "  divident_yield = divident_per_share / share_price\n",
        "\n",
        "  return eps, pe, divident_yield"
      ],
      "metadata": {
        "id": "Vfo-NdZ_CHh2"
      },
      "execution_count": 54,
      "outputs": []
    },
    {
      "cell_type": "code",
      "source": [
        "eps_q1, pe_q1, divident_yield_q1 = get_equity_analysis(bs_q1, bs_q2, bs_q3, bs_q4, is_q1, is_q2, is_q3, is_q4, cf_q1, cf_q2, cf_q3, cf_q4, 'q1')\n",
        "eps_q2, pe_q2, divident_yield_q2 = get_equity_analysis(bs_q1, bs_q2, bs_q3, bs_q4, is_q1, is_q2, is_q3, is_q4, cf_q1, cf_q2, cf_q3, cf_q4, 'q2')\n",
        "eps_q3, pe_q3, divident_yield_q3 = get_equity_analysis(bs_q1, bs_q2, bs_q3, bs_q4, is_q1, is_q2, is_q3, is_q4, cf_q1, cf_q2, cf_q3, cf_q4, 'q3')"
      ],
      "metadata": {
        "id": "5eVhDpYEC6SI"
      },
      "execution_count": 55,
      "outputs": []
    },
    {
      "cell_type": "code",
      "source": [
        "operational_efficiency_q1 = float(is_q1['operatingExpenses'])/float(is_q1['totalRevenue'])\n",
        "operational_efficiency_q2 = float(is_q1['operatingExpenses'])/float(is_q1['totalRevenue'])\n",
        "operational_efficiency_q3 = float(is_q1['operatingExpenses'])/float(is_q1['totalRevenue'])\n"
      ],
      "metadata": {
        "id": "UiRKUbZyIWBl"
      },
      "execution_count": 56,
      "outputs": []
    },
    {
      "cell_type": "code",
      "source": [
        "import pandas as pd\n",
        "\n",
        "# Provided values\n",
        "quarters = ['Q1', 'Q2', 'Q3']\n",
        "z_scores = [0.7891861713143984, 0.8963250784949658, 0.7673452703535641]\n",
        "cash_conversion_cycle = [2009.7854946933985, 31013.108434527694, 3092.466670007334]\n",
        "roe_values = [0.04695453969861973, 0.13726731670254527, -0.16188425984551094]\n",
        "growth_rates = [-0.02887172343928074, 0.061593010003798916, -0.2374066101051032]\n",
        "eps = [eps_q1, eps_q2, eps_q3]\n",
        "pe = [pe_q1, pe_q2, pe_q3]\n",
        "divident_yield = [divident_yield_q1, divident_yield_q2, divident_yield_q3]\n",
        "operational_efficiency = [operational_efficiency_q1, operational_efficiency_q2, operational_efficiency_q3]\n",
        "roa = [roa_q1, roa_q2, roa_q3]\n",
        "operating_roa = [operating_roa_q1, operating_roa_q2, operating_roa_q3]\n",
        "roc = [roe_q1, roe_q2, roe_q3]\n",
        "debt_to_equity = [debt_to_equity_q1, debt_to_equity_q2, debt_to_equity_q3]\n",
        "debt_to_capital = [debt_to_capital_q1, debt_to_capital_q2, debt_to_capital_q3]\n",
        "debt_to_assets = [debt_to_assets_q1, debt_to_assets_q2, debt_to_assets_q3]\n",
        "financial_verage = [financial_leverage_q1, financial_leverage_q2, financial_leverage_q3]\n",
        "interest_coverage = [interest_coverage_q1, interest_coverage_q2, interest_coverage_q3]\n",
        "current_ratio = [current_ratio_q1, current_ratio_q2, current_ratio_q3]\n",
        "quick_ratio = [quick_ratio_q1, quick_ratio_q2, quick_ratio_q3]\n",
        "cash_ratio = [cash_ratio_q1, cash_ratio_q2, cash_ratio_q3]\n",
        "defensive_interval = [defensive_interval_q1, defensive_interval_q2, defensive_interval_q3]\n",
        "revenue = [revenue_q1, revenue_q2, revenue_q3]\n",
        "retained_earnings = [retained_earnings_q1, retained_earnings_q2, retained_earnings_q3]\n",
        "\n",
        "\n",
        "# Create a dictionary with the data\n",
        "data = {\n",
        "    'Z Score': z_scores,\n",
        "    'Cash Conversion Cycle': cash_conversion_cycle,\n",
        "    'ROE': roe_values,\n",
        "    'Growth Rate': growth_rates,\n",
        "    'EPS': eps,\n",
        "    'P/E': pe,\n",
        "    'Dividend Yield': divident_yield,\n",
        "    'Operational Efficiency': operational_efficiency,\n",
        "    'ROA': roa,\n",
        "    'Operating ROA': operating_roa,\n",
        "    'ROC': roc,\n",
        "    'Debt to Equity': debt_to_equity,\n",
        "    'Debt to Capital': debt_to_capital,\n",
        "    'Debt to Assets': debt_to_assets,\n",
        "    # 'Financial Leverage': financial_leverage,\n",
        "    'Interest Coverage': interest_coverage,\n",
        "    'Current Ratio': current_ratio,\n",
        "    'Quick Ratio': quick_ratio,\n",
        "    'Cash Ratio': cash_ratio,\n",
        "    'Defensive Interval': defensive_interval,\n",
        "    'Revenue': revenue,\n",
        "    'Retained Earnings': retained_earnings\n",
        "}\n",
        "df = pd.DataFrame(data, index=quarters)\n",
        "\n",
        "# Print the transposed DataFrame\n",
        "print(df.transpose())\n"
      ],
      "metadata": {
        "colab": {
          "base_uri": "https://localhost:8080/"
        },
        "id": "emFbSot-NUAz",
        "outputId": "6733cc6c-90a7-4e76-f1a4-2da4e0080eb4"
      },
      "execution_count": 57,
      "outputs": [
        {
          "output_type": "stream",
          "name": "stdout",
          "text": [
            "                                  Q1            Q2            Q3\n",
            "Z Score                 7.891862e-01  8.963251e-01  7.673453e-01\n",
            "Cash Conversion Cycle   2.009785e+03  3.101311e+04  3.092467e+03\n",
            "ROE                     4.695454e-02  1.372673e-01 -1.618843e-01\n",
            "Growth Rate            -2.887172e-02  6.159301e-02 -2.374066e-01\n",
            "EPS                     1.021488e+00  2.990866e+00 -3.535098e+00\n",
            "P/E                     1.353125e+02  4.621403e+01 -3.909934e+01\n",
            "Dividend Yield          1.193450e-02  1.192909e-02  1.193167e-02\n",
            "Operational Efficiency  5.089110e-01  5.089110e-01  5.089110e-01\n",
            "ROA                     7.317853e-03  2.139308e-02 -2.522962e-02\n",
            "Operating ROA           2.020896e-03  2.600324e-02  1.161226e-02\n",
            "ROC                     4.695454e-02  1.372673e-01 -1.618843e-01\n",
            "Debt to Equity          2.804064e+00  2.367390e+00  2.621140e+00\n",
            "Debt to Capital         7.371232e-01  7.030341e-01  7.238438e-01\n",
            "Debt to Assets          4.533101e-01  4.082739e-01  4.181327e-01\n",
            "Interest Coverage       6.975477e-01  1.052396e+01  4.986441e+00\n",
            "Current Ratio           1.160972e+00  9.242342e-01  9.518480e-01\n",
            "Quick Ratio             7.086439e-01  7.013173e-01  4.629751e-01\n",
            "Cash Ratio              3.012616e-01  2.503095e-01  2.565483e-01\n",
            "Defensive Interval      6.016131e+02  5.768723e+02  2.975394e+02\n",
            "Revenue                 1.425200e+10  1.669000e+10  1.410700e+10\n",
            "Retained Earnings      -5.700000e+08  1.216000e+09 -4.687000e+09\n"
          ]
        }
      ]
    },
    {
      "cell_type": "code",
      "source": [],
      "metadata": {
        "id": "C8Y9akFK851J"
      },
      "execution_count": 57,
      "outputs": []
    }
  ]
}
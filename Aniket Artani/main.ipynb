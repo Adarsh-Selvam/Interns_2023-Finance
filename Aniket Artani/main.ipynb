{
 "cells": [
  {
   "attachments": {},
   "cell_type": "markdown",
   "metadata": {},
   "source": [
    "Summary of Balance Sheet in 7 lines.(Summary is present at the end of the script)"
   ]
  },
  {
   "cell_type": "code",
   "execution_count": 160,
   "metadata": {},
   "outputs": [],
   "source": [
    "import requests\n",
    "import openai\n",
    "API_KEY = '' #enter your api key\n",
    "openai.api_key = API_KEY\n",
    "model = 'text-davinci-003'"
   ]
  },
  {
   "cell_type": "code",
   "execution_count": 161,
   "metadata": {},
   "outputs": [
    {
     "name": "stdout",
     "output_type": "stream",
     "text": [
      "{'symbol': 'IBM', 'annualReports': [{'fiscalDateEnding': '2022-12-31', 'reportedCurrency': 'USD', 'totalAssets': '127243000000', 'totalCurrentAssets': '29118000000', 'cashAndCashEquivalentsAtCarryingValue': '7886000000', 'cashAndShortTermInvestments': '7886000000', 'inventory': '1552000000', 'currentNetReceivables': '14209000000', 'totalNonCurrentAssets': '96874000000', 'propertyPlantEquipment': '5334000000', 'accumulatedDepreciationAmortizationPPE': '13361000000', 'intangibleAssets': '67133000000', 'intangibleAssetsExcludingGoodwill': '11184000000', 'goodwill': '55949000000', 'investments': 'None', 'longTermInvestments': '142000000', 'shortTermInvestments': '852000000', 'otherCurrentAssets': '2610000000', 'otherNonCurrentAssets': 'None', 'totalLiabilities': '105222000000', 'totalCurrentLiabilities': '31505000000', 'currentAccountsPayable': '4051000000', 'deferredRevenue': '15531000000', 'currentDebt': '9511000000', 'shortTermDebt': '4760000000', 'totalNonCurrentLiabilities': '83414000000', 'capitalLeaseObligations': '164000000', 'longTermDebt': '47190000000', 'currentLongTermDebt': '4676000000', 'longTermDebtNoncurrent': '46189000000', 'shortLongTermDebtTotal': '107759000000', 'otherCurrentLiabilities': '9788000000', 'otherNonCurrentLiabilities': '12243000000', 'totalShareholderEquity': '21944000000', 'treasuryStock': '169484000000', 'retainedEarnings': '149825000000', 'commonStock': '58343000000', 'commonStockSharesOutstanding': '906091977'}, {'fiscalDateEnding': '2021-12-31', 'reportedCurrency': 'USD', 'totalAssets': '132001000000', 'totalCurrentAssets': '29539000000', 'cashAndCashEquivalentsAtCarryingValue': '6650000000', 'cashAndShortTermInvestments': '6650000000', 'inventory': '1649000000', 'currentNetReceivables': '14977000000', 'totalNonCurrentAssets': '101786000000', 'propertyPlantEquipment': '5694000000', 'accumulatedDepreciationAmortizationPPE': '14390000000', 'intangibleAssets': '68154000000', 'intangibleAssetsExcludingGoodwill': '12511000000', 'goodwill': '55643000000', 'investments': '199000000', 'longTermInvestments': '159000000', 'shortTermInvestments': '600000000', 'otherCurrentAssets': '5663000000', 'otherNonCurrentAssets': 'None', 'totalLiabilities': '113005000000', 'totalCurrentLiabilities': '33619000000', 'currentAccountsPayable': '3955000000', 'deferredRevenue': '16095000000', 'currentDebt': '13551000000', 'shortTermDebt': '6787000000', 'totalNonCurrentLiabilities': '90188000000', 'capitalLeaseObligations': '63000000', 'longTermDebt': '56193000000', 'currentLongTermDebt': '6728000000', 'longTermDebtNoncurrent': '44917000000', 'shortLongTermDebtTotal': '110496000000', 'otherCurrentLiabilities': '9386000000', 'otherNonCurrentLiabilities': '13996000000', 'totalShareholderEquity': '18901000000', 'treasuryStock': '169392000000', 'retainedEarnings': '154209000000', 'commonStock': '57319000000', 'commonStockSharesOutstanding': '898068600'}, {'fiscalDateEnding': '2020-12-31', 'reportedCurrency': 'USD', 'totalAssets': '155971000000', 'totalCurrentAssets': '39165000000', 'cashAndCashEquivalentsAtCarryingValue': '13188000000', 'cashAndShortTermInvestments': '13812000000', 'inventory': '1812000000', 'currentNetReceivables': '18738000000', 'totalNonCurrentAssets': '115864000000', 'propertyPlantEquipment': '6205000000', 'accumulatedDepreciationAmortizationPPE': '13895000000', 'intangibleAssets': '73413000000', 'intangibleAssetsExcludingGoodwill': '13796000000', 'goodwill': '53765000000', 'investments': '923000000', 'longTermInvestments': '172000000', 'shortTermInvestments': '600000000', 'otherCurrentAssets': '4776000000', 'otherNonCurrentAssets': 'None', 'totalLiabilities': '135244000000', 'totalCurrentLiabilities': '39869000000', 'currentAccountsPayable': '4033000000', 'deferredRevenue': '17134000000', 'currentDebt': '14102000000', 'shortTermDebt': '7116000000', 'totalNonCurrentLiabilities': '106679000000', 'capitalLeaseObligations': '60000000', 'longTermDebt': '68416000000', 'currentLongTermDebt': '6956000000', 'longTermDebtNoncurrent': '54217000000', 'shortLongTermDebtTotal': '130178000000', 'otherCurrentLiabilities': '13588000000', 'otherNonCurrentLiabilities': '14180000000', 'totalShareholderEquity': '20597000000', 'treasuryStock': '169339000000', 'retainedEarnings': '162717000000', 'commonStock': '56556000000', 'commonStockSharesOutstanding': '892653424'}, {'fiscalDateEnding': '2019-12-31', 'reportedCurrency': 'USD', 'totalAssets': '152186000000', 'totalCurrentAssets': '38420000000', 'cashAndCashEquivalentsAtCarryingValue': '8172000000', 'cashAndShortTermInvestments': '8868000000', 'inventory': '1619000000', 'currentNetReceivables': '23795000000', 'totalNonCurrentAssets': '112878000000', 'propertyPlantEquipment': '10010000000', 'accumulatedDepreciationAmortizationPPE': '22018000000', 'intangibleAssets': '73457000000', 'intangibleAssetsExcludingGoodwill': '15235000000', 'goodwill': '52471000000', 'investments': '974000000', 'longTermInvestments': '184000000', 'shortTermInvestments': '696000000', 'otherCurrentAssets': '4138000000', 'otherNonCurrentAssets': 'None', 'totalLiabilities': '131202000000', 'totalCurrentLiabilities': '37701000000', 'currentAccountsPayable': '4896000000', 'deferredRevenue': '15877000000', 'currentDebt': '16319000000', 'shortTermDebt': '8797000000', 'totalNonCurrentLiabilities': '100877000000', 'capitalLeaseObligations': '5259000000', 'longTermDebt': '65953000000', 'currentLongTermDebt': '7522000000', 'longTermDebtNoncurrent': '54102000000', 'shortLongTermDebtTotal': '132187000000', 'otherCurrentLiabilities': '10602000000', 'otherNonCurrentLiabilities': '14526000000', 'totalShareholderEquity': '20841000000', 'treasuryStock': '169413000000', 'retainedEarnings': '162954000000', 'commonStock': '55895000000', 'commonStockSharesOutstanding': '887110455'}, {'fiscalDateEnding': '2018-12-31', 'reportedCurrency': 'USD', 'totalAssets': '123382000000', 'totalCurrentAssets': '49146000000', 'cashAndCashEquivalentsAtCarryingValue': '11379000000', 'cashAndShortTermInvestments': '11997000000', 'inventory': '1682000000', 'currentNetReceivables': '30563000000', 'totalNonCurrentAssets': '68067000000', 'propertyPlantEquipment': '10792000000', 'accumulatedDepreciationAmortizationPPE': '21668000000', 'intangibleAssets': '39352000000', 'intangibleAssetsExcludingGoodwill': '3087000000', 'goodwill': '36265000000', 'investments': '1157000000', 'longTermInvestments': '192000000', 'shortTermInvestments': '618000000', 'otherCurrentAssets': '4904000000', 'otherNonCurrentAssets': 'None', 'totalLiabilities': '106452000000', 'totalCurrentLiabilities': '38227000000', 'currentAccountsPayable': '6558000000', 'deferredRevenue': '14610000000', 'currentDebt': '10207000000', 'shortTermDebt': '10207000000', 'totalNonCurrentLiabilities': '76767000000', 'capitalLeaseObligations': 'None', 'longTermDebt': '42656000000', 'currentLongTermDebt': '7051000000', 'longTermDebtNoncurrent': '35605000000', 'shortLongTermDebtTotal': '52863000000', 'otherCurrentLiabilities': '10297000000', 'otherNonCurrentLiabilities': '12174000000', 'totalShareholderEquity': '16796000000', 'treasuryStock': '168071000000', 'retainedEarnings': '159206000000', 'commonStock': '55151000000', 'commonStockSharesOutstanding': '892479411'}], 'quarterlyReports': [{'fiscalDateEnding': '2023-03-31', 'reportedCurrency': 'USD', 'totalAssets': '133637000000', 'totalCurrentAssets': '35982000000', 'cashAndCashEquivalentsAtCarryingValue': '9337000000', 'cashAndShortTermInvestments': '9337000000', 'inventory': '1603000000', 'currentNetReceivables': '12626000000', 'totalNonCurrentAssets': '96048000000', 'propertyPlantEquipment': '5344000000', 'accumulatedDepreciationAmortizationPPE': '13417000000', 'intangibleAssets': '67098000000', 'intangibleAssetsExcludingGoodwill': '10905000000', 'goodwill': '56193000000', 'investments': 'None', 'longTermInvestments': '1607000000', 'shortTermInvestments': '8057000000', 'otherCurrentAssets': '2501000000', 'otherNonCurrentAssets': 'None', 'totalLiabilities': '111964000000', 'totalCurrentLiabilities': '30993000000', 'currentAccountsPayable': '3728000000', 'deferredRevenue': '16663000000', 'currentDebt': '9768000000', 'shortTermDebt': '4887000000', 'totalNonCurrentLiabilities': '80971000000', 'capitalLeaseObligations': '2963000000', 'longTermDebt': '55692000000', 'currentLongTermDebt': '4881000000', 'longTermDebtNoncurrent': '53826000000', 'shortLongTermDebtTotal': '86257000000', 'otherCurrentLiabilities': '8289000000', 'otherNonCurrentLiabilities': '12099000000', 'totalShareholderEquity': '21604000000', 'treasuryStock': '169544000000', 'retainedEarnings': '149253000000', 'commonStock': '58675000000', 'commonStockSharesOutstanding': '907500000'}, {'fiscalDateEnding': '2022-12-31', 'reportedCurrency': 'USD', 'totalAssets': '127243000000', 'totalCurrentAssets': '29118000000', 'cashAndCashEquivalentsAtCarryingValue': '7886000000', 'cashAndShortTermInvestments': '7886000000', 'inventory': '1552000000', 'currentNetReceivables': '14209000000', 'totalNonCurrentAssets': '96874000000', 'propertyPlantEquipment': '5334000000', 'accumulatedDepreciationAmortizationPPE': '13361000000', 'intangibleAssets': '67133000000', 'intangibleAssetsExcludingGoodwill': '11184000000', 'goodwill': '55949000000', 'investments': 'None', 'longTermInvestments': '142000000', 'shortTermInvestments': '852000000', 'otherCurrentAssets': '2610000000', 'otherNonCurrentAssets': 'None', 'totalLiabilities': '105222000000', 'totalCurrentLiabilities': '31505000000', 'currentAccountsPayable': '4051000000', 'deferredRevenue': '15531000000', 'currentDebt': '9511000000', 'shortTermDebt': '4760000000', 'totalNonCurrentLiabilities': '83414000000', 'capitalLeaseObligations': '164000000', 'longTermDebt': '47190000000', 'currentLongTermDebt': '4676000000', 'longTermDebtNoncurrent': '46189000000', 'shortLongTermDebtTotal': '107759000000', 'otherCurrentLiabilities': '9788000000', 'otherNonCurrentLiabilities': '12243000000', 'totalShareholderEquity': '21944000000', 'treasuryStock': '169484000000', 'retainedEarnings': '149825000000', 'commonStock': '58343000000', 'commonStockSharesOutstanding': '906091977'}, {'fiscalDateEnding': '2022-09-30', 'reportedCurrency': 'USD', 'totalAssets': '125850000000', 'totalCurrentAssets': '28999000000', 'cashAndCashEquivalentsAtCarryingValue': '7816000000', 'cashAndShortTermInvestments': '7816000000', 'inventory': '1794000000', 'currentNetReceivables': '6289000000', 'totalNonCurrentAssets': '95237000000', 'propertyPlantEquipment': '5150000000', 'accumulatedDepreciationAmortizationPPE': '13525000000', 'intangibleAssets': '65185000000', 'intangibleAssetsExcludingGoodwill': '10967000000', 'goodwill': '54218000000', 'investments': 'None', 'longTermInvestments': '1614000000', 'shortTermInvestments': '1753000000', 'otherCurrentAssets': '1000000', 'otherNonCurrentAssets': 'None', 'totalLiabilities': '105703000000', 'totalCurrentLiabilities': '30466000000', 'currentAccountsPayable': '3806000000', 'deferredRevenue': '14157000000', 'currentDebt': '11678000000', 'shortTermDebt': '5937000000', 'totalNonCurrentLiabilities': '75236000000', 'capitalLeaseObligations': '2947000000', 'longTermDebt': '46685000000', 'currentLongTermDebt': '5741000000', 'longTermDebtNoncurrent': '44942000000', 'shortLongTermDebtTotal': '76684000000', 'otherCurrentLiabilities': '8740000000', 'otherNonCurrentLiabilities': '13413000000', 'totalShareholderEquity': '20076000000', 'treasuryStock': '169514000000', 'retainedEarnings': '148611000000', 'commonStock': '58117000000', 'commonStockSharesOutstanding': '904076831'}, {'fiscalDateEnding': '2022-06-30', 'reportedCurrency': 'USD', 'totalAssets': '127503000000', 'totalCurrentAssets': '27896000000', 'cashAndCashEquivalentsAtCarryingValue': '7034000000', 'cashAndShortTermInvestments': '7034000000', 'inventory': '1684000000', 'currentNetReceivables': '6626000000', 'totalNonCurrentAssets': '97917000000', 'propertyPlantEquipment': '5275000000', 'accumulatedDepreciationAmortizationPPE': '13804000000', 'intangibleAssets': '66610000000', 'intangibleAssetsExcludingGoodwill': '11571000000', 'goodwill': '55039000000', 'investments': 'None', 'longTermInvestments': '1689000000', 'shortTermInvestments': '524000000', 'otherCurrentAssets': '1000000', 'otherNonCurrentAssets': 'None', 'totalLiabilities': '108026000000', 'totalCurrentLiabilities': '31844000000', 'currentAccountsPayable': '3707000000', 'deferredRevenue': '15591000000', 'currentDebt': '11733000000', 'shortTermDebt': '5981000000', 'totalNonCurrentLiabilities': '76183000000', 'capitalLeaseObligations': '3066000000', 'longTermDebt': '47895000000', 'currentLongTermDebt': '5752000000', 'longTermDebtNoncurrent': '44328000000', 'shortLongTermDebtTotal': '75151000000', 'otherCurrentLiabilities': '8750000000', 'otherNonCurrentLiabilities': '13486000000', 'totalShareholderEquity': '19409000000', 'treasuryStock': '169522000000', 'retainedEarnings': '153298000000', 'commonStock': '57802000000', 'commonStockSharesOutstanding': '901500000'}, {'fiscalDateEnding': '2022-03-31', 'reportedCurrency': 'USD', 'totalAssets': '133275000000', 'totalCurrentAssets': '31330000000', 'cashAndCashEquivalentsAtCarryingValue': '9934000000', 'cashAndShortTermInvestments': '9934000000', 'inventory': '1776000000', 'currentNetReceivables': '13725000000', 'totalNonCurrentAssets': '100173000000', 'propertyPlantEquipment': '5559000000', 'accumulatedDepreciationAmortizationPPE': '14448000000', 'intangibleAssets': '68418000000', 'intangibleAssetsExcludingGoodwill': '12312000000', 'goodwill': '56106000000', 'investments': 'None', 'longTermInvestments': '1771000000', 'shortTermInvestments': '550000000', 'otherCurrentAssets': '-2000000', 'otherNonCurrentAssets': 'None', 'totalLiabilities': '114162000000', 'totalCurrentLiabilities': '34056000000', 'currentAccountsPayable': '3453000000', 'deferredRevenue': '16949000000', 'currentDebt': '15366000000', 'shortTermDebt': '7690000000', 'totalNonCurrentLiabilities': '80107000000', 'capitalLeaseObligations': '3312000000', 'longTermDebt': '55572000000', 'currentLongTermDebt': '7676000000', 'longTermDebtNoncurrent': '46545000000', 'shortLongTermDebtTotal': '81434000000', 'otherCurrentLiabilities': '8433000000', 'otherNonCurrentLiabilities': '13844000000', 'totalShareholderEquity': '19050000000', 'treasuryStock': '169422000000', 'retainedEarnings': '153401000000', 'commonStock': '57603000000', 'commonStockSharesOutstanding': '899316026'}, {'fiscalDateEnding': '2021-12-31', 'reportedCurrency': 'USD', 'totalAssets': '132001000000', 'totalCurrentAssets': '29539000000', 'cashAndCashEquivalentsAtCarryingValue': '6650000000', 'cashAndShortTermInvestments': '6650000000', 'inventory': '1649000000', 'currentNetReceivables': '14977000000', 'totalNonCurrentAssets': '101786000000', 'propertyPlantEquipment': '5694000000', 'accumulatedDepreciationAmortizationPPE': '14390000000', 'intangibleAssets': '68154000000', 'intangibleAssetsExcludingGoodwill': '12511000000', 'goodwill': '55643000000', 'investments': '199000000', 'longTermInvestments': '159000000', 'shortTermInvestments': '600000000', 'otherCurrentAssets': '5663000000', 'otherNonCurrentAssets': 'None', 'totalLiabilities': '113005000000', 'totalCurrentLiabilities': '33619000000', 'currentAccountsPayable': '3955000000', 'deferredRevenue': '16095000000', 'currentDebt': '13551000000', 'shortTermDebt': '6787000000', 'totalNonCurrentLiabilities': '90188000000', 'capitalLeaseObligations': '63000000', 'longTermDebt': '56193000000', 'currentLongTermDebt': '6728000000', 'longTermDebtNoncurrent': '44917000000', 'shortLongTermDebtTotal': '110496000000', 'otherCurrentLiabilities': '9386000000', 'otherNonCurrentLiabilities': '13996000000', 'totalShareholderEquity': '18901000000', 'treasuryStock': '169392000000', 'retainedEarnings': '154209000000', 'commonStock': '57319000000', 'commonStockSharesOutstanding': '898068600'}, {'fiscalDateEnding': '2021-09-30', 'reportedCurrency': 'USD', 'totalAssets': '144214000000', 'totalCurrentAssets': '29967000000', 'cashAndCashEquivalentsAtCarryingValue': '7455000000', 'cashAndShortTermInvestments': '7455000000', 'inventory': '1891000000', 'currentNetReceivables': '14669000000', 'totalNonCurrentAssets': '112252000000', 'propertyPlantEquipment': '9138000000', 'accumulatedDepreciationAmortizationPPE': '23211000000', 'intangibleAssets': '74403000000', 'intangibleAssetsExcludingGoodwill': '13025000000', 'goodwill': '61378000000', 'investments': 'None', 'longTermInvestments': '1996000000', 'shortTermInvestments': '600000000', 'otherCurrentAssets': '5352000000', 'otherNonCurrentAssets': 'None', 'totalLiabilities': '121858000000', 'totalCurrentLiabilities': '35832000000', 'currentAccountsPayable': '4248000000', 'deferredRevenue': '16229000000', 'currentDebt': '14207000000', 'shortTermDebt': '7575000000', 'totalNonCurrentLiabilities': '86026000000', 'capitalLeaseObligations': '4477000000', 'longTermDebt': '58782000000', 'currentLongTermDebt': '6632000000', 'longTermDebtNoncurrent': '46926000000', 'shortLongTermDebtTotal': '83307000000', 'otherCurrentLiabilities': '8301000000', 'otherNonCurrentLiabilities': '15179000000', 'totalShareholderEquity': '22228000000', 'treasuryStock': '169406000000', 'retainedEarnings': '161747000000', 'commonStock': '57189000000', 'commonStockSharesOutstanding': '897097073'}, {'fiscalDateEnding': '2021-06-30', 'reportedCurrency': 'USD', 'totalAssets': '146814000000', 'totalCurrentAssets': '30774000000', 'cashAndCashEquivalentsAtCarryingValue': '7350000000', 'cashAndShortTermInvestments': '7350000000', 'inventory': '1807000000', 'currentNetReceivables': '15823000000', 'totalNonCurrentAssets': '114030000000', 'propertyPlantEquipment': '9423000000', 'accumulatedDepreciationAmortizationPPE': '23152000000', 'intangibleAssets': '75184000000', 'intangibleAssetsExcludingGoodwill': '13539000000', 'goodwill': '61645000000', 'investments': 'None', 'longTermInvestments': '2010000000', 'shortTermInvestments': '600000000', 'otherCurrentAssets': '5194000000', 'otherNonCurrentAssets': 'None', 'totalLiabilities': '124747000000', 'totalCurrentLiabilities': '36616000000', 'currentAccountsPayable': '4214000000', 'deferredRevenue': '17385000000', 'currentDebt': '12848000000', 'shortTermDebt': '6442000000', 'totalNonCurrentLiabilities': '88132000000', 'capitalLeaseObligations': '4612000000', 'longTermDebt': '60637000000', 'currentLongTermDebt': '6406000000', 'longTermDebtNoncurrent': '48735000000', 'shortLongTermDebtTotal': '83835000000', 'otherCurrentLiabilities': '9094000000', 'otherNonCurrentLiabilities': '14741000000', 'totalShareholderEquity': '21942000000', 'treasuryStock': '169404000000', 'retainedEarnings': '162086000000', 'commonStock': '56912000000', 'commonStockSharesOutstanding': '895043024'}, {'fiscalDateEnding': '2021-03-31', 'reportedCurrency': 'USD', 'totalAssets': '148629000000', 'totalCurrentAssets': '34038000000', 'cashAndCashEquivalentsAtCarryingValue': '10531000000', 'cashAndShortTermInvestments': '11131000000', 'inventory': '1828000000', 'currentNetReceivables': '16067000000', 'totalNonCurrentAssets': '112465000000', 'propertyPlantEquipment': '9452000000', 'accumulatedDepreciationAmortizationPPE': '22817000000', 'intangibleAssets': '73519000000', 'intangibleAssetsExcludingGoodwill': '13535000000', 'goodwill': '59984000000', 'investments': '600000000', 'longTermInvestments': '8047000000', 'shortTermInvestments': '600000000', 'otherCurrentAssets': '5012000000', 'otherNonCurrentAssets': 'None', 'totalLiabilities': '127116000000', 'totalCurrentLiabilities': '36542000000', 'currentAccountsPayable': '4140000000', 'deferredRevenue': '18350000000', 'currentDebt': '10360000000', 'shortTermDebt': '5198000000', 'totalNonCurrentLiabilities': '90573000000', 'capitalLeaseObligations': '4716000000', 'longTermDebt': '61124000000', 'currentLongTermDebt': '5162000000', 'longTermDebtNoncurrent': '51206000000', 'shortLongTermDebtTotal': '83548000000', 'otherCurrentLiabilities': '9030000000', 'otherNonCurrentLiabilities': '14489000000', 'totalShareholderEquity': '21389000000', 'treasuryStock': '169360000000', 'retainedEarnings': '162218000000', 'commonStock': '56788000000', 'commonStockSharesOutstanding': '893630916'}, {'fiscalDateEnding': '2020-12-31', 'reportedCurrency': 'USD', 'totalAssets': '155971000000', 'totalCurrentAssets': '39165000000', 'cashAndCashEquivalentsAtCarryingValue': '13188000000', 'cashAndShortTermInvestments': '13812000000', 'inventory': '1812000000', 'currentNetReceivables': '18738000000', 'totalNonCurrentAssets': '115864000000', 'propertyPlantEquipment': '6205000000', 'accumulatedDepreciationAmortizationPPE': '13895000000', 'intangibleAssets': '73413000000', 'intangibleAssetsExcludingGoodwill': '13796000000', 'goodwill': '53765000000', 'investments': '923000000', 'longTermInvestments': '172000000', 'shortTermInvestments': '600000000', 'otherCurrentAssets': '4776000000', 'otherNonCurrentAssets': 'None', 'totalLiabilities': '135244000000', 'totalCurrentLiabilities': '39869000000', 'currentAccountsPayable': '4033000000', 'deferredRevenue': '17134000000', 'currentDebt': '14102000000', 'shortTermDebt': '7116000000', 'totalNonCurrentLiabilities': '106679000000', 'capitalLeaseObligations': '60000000', 'longTermDebt': '68416000000', 'currentLongTermDebt': '6956000000', 'longTermDebtNoncurrent': '54217000000', 'shortLongTermDebtTotal': '130178000000', 'otherCurrentLiabilities': '10287000000', 'otherNonCurrentLiabilities': '14180000000', 'totalShareholderEquity': '20597000000', 'treasuryStock': '169339000000', 'retainedEarnings': '162717000000', 'commonStock': '56556000000', 'commonStockSharesOutstanding': '892653424'}, {'fiscalDateEnding': '2020-09-30', 'reportedCurrency': 'USD', 'totalAssets': '154128000000', 'totalCurrentAssets': '39845000000', 'cashAndCashEquivalentsAtCarryingValue': '14393000000', 'cashAndShortTermInvestments': '15593000000', 'inventory': '1949000000', 'currentNetReceivables': '17870000000', 'totalNonCurrentAssets': '112339000000', 'propertyPlantEquipment': '9958000000', 'accumulatedDepreciationAmortizationPPE': '22474000000', 'intangibleAssets': '72317000000', 'intangibleAssetsExcludingGoodwill': '13962000000', 'goodwill': '58355000000', 'investments': '1200000000', 'longTermInvestments': '8367000000', 'shortTermInvestments': '1200000000', 'otherCurrentAssets': '4433000000', 'otherNonCurrentAssets': 'None', 'totalLiabilities': '132794000000', 'totalCurrentLiabilities': '37993000000', 'currentAccountsPayable': '3985000000', 'deferredRevenue': '15501000000', 'currentDebt': '19962000000', 'shortTermDebt': '10285000000', 'totalNonCurrentLiabilities': '94800000000', 'capitalLeaseObligations': '4971000000', 'longTermDebt': '71460000000', 'currentLongTermDebt': '9677000000', 'longTermDebtNoncurrent': '55129000000', 'shortLongTermDebtTotal': '100934000000', 'otherCurrentLiabilities': '8330000000', 'otherNonCurrentLiabilities': '15484000000', 'totalShareholderEquity': '21208000000', 'treasuryStock': '169380000000', 'retainedEarnings': '162806000000', 'commonStock': '56366000000', 'commonStockSharesOutstanding': '891400000'}, {'fiscalDateEnding': '2020-06-30', 'reportedCurrency': 'USD', 'totalAssets': '154200000000', 'totalCurrentAssets': '39953000000', 'cashAndCashEquivalentsAtCarryingValue': '12041000000', 'cashAndShortTermInvestments': '14104000000', 'inventory': '1869000000', 'currentNetReceivables': '19447000000', 'totalNonCurrentAssets': '112325000000', 'propertyPlantEquipment': '9709000000', 'accumulatedDepreciationAmortizationPPE': '21957000000', 'intangibleAssets': '72103000000', 'intangibleAssetsExcludingGoodwill': '14270000000', 'goodwill': '57833000000', 'investments': '2063000000', 'longTermInvestments': '9272000000', 'shortTermInvestments': '2063000000', 'otherCurrentAssets': '4533000000', 'otherNonCurrentAssets': 'None', 'totalLiabilities': '133512000000', 'totalCurrentLiabilities': '38442000000', 'currentAccountsPayable': '4719000000', 'deferredRevenue': '16256000000', 'currentDebt': '17733000000', 'shortTermDebt': '9289000000', 'totalNonCurrentLiabilities': '95069000000', 'capitalLeaseObligations': '5027000000', 'longTermDebt': '70044000000', 'currentLongTermDebt': '8444000000', 'longTermDebtNoncurrent': '55449000000', 'shortLongTermDebtTotal': '98574000000', 'otherCurrentLiabilities': '7995000000', 'otherNonCurrentLiabilities': '15666000000', 'totalShareholderEquity': '20551000000', 'treasuryStock': '169386000000', 'retainedEarnings': '162559000000', 'commonStock': '56135000000', 'commonStockSharesOutstanding': '889400000'}, {'fiscalDateEnding': '2020-03-31', 'reportedCurrency': 'USD', 'totalAssets': '153403000000', 'totalCurrentAssets': '38931000000', 'cashAndCashEquivalentsAtCarryingValue': '11218000000', 'cashAndShortTermInvestments': '11865000000', 'inventory': '1786000000', 'currentNetReceivables': '20669000000', 'totalNonCurrentAssets': '112562000000', 'propertyPlantEquipment': '9626000000', 'accumulatedDepreciationAmortizationPPE': '21464000000', 'intangibleAssets': '72183000000', 'intangibleAssetsExcludingGoodwill': '14666000000', 'goodwill': '57517000000', 'investments': '647000000', 'longTermInvestments': '9619000000', 'shortTermInvestments': '647000000', 'otherCurrentAssets': '4611000000', 'otherNonCurrentAssets': 'None', 'totalLiabilities': '133275000000', 'totalCurrentLiabilities': '40673000000', 'currentAccountsPayable': '4172000000', 'deferredRevenue': '17146000000', 'currentDebt': '19832000000', 'shortTermDebt': '11642000000', 'totalNonCurrentLiabilities': '88802000000', 'capitalLeaseObligations': '5126000000', 'longTermDebt': '64950000000', 'currentLongTermDebt': '8190000000', 'longTermDebtNoncurrent': '52685000000', 'shortLongTermDebtTotal': '127712000000', 'otherCurrentLiabilities': '7806000000', 'otherNonCurrentLiabilities': '15874000000', 'totalShareholderEquity': '19999000000', 'treasuryStock': '169437000000', 'retainedEarnings': '162626000000', 'commonStock': '56092000000', 'commonStockSharesOutstanding': '888000000'}, {'fiscalDateEnding': '2019-12-31', 'reportedCurrency': 'USD', 'totalAssets': '152186000000', 'totalCurrentAssets': '38420000000', 'cashAndCashEquivalentsAtCarryingValue': '8172000000', 'cashAndShortTermInvestments': '8868000000', 'inventory': '1619000000', 'currentNetReceivables': '23795000000', 'totalNonCurrentAssets': '112878000000', 'propertyPlantEquipment': '10010000000', 'accumulatedDepreciationAmortizationPPE': '22018000000', 'intangibleAssets': '73457000000', 'intangibleAssetsExcludingGoodwill': '15235000000', 'goodwill': '52471000000', 'investments': '974000000', 'longTermInvestments': '184000000', 'shortTermInvestments': '696000000', 'otherCurrentAssets': '4138000000', 'otherNonCurrentAssets': 'None', 'totalLiabilities': '131202000000', 'totalCurrentLiabilities': '37701000000', 'currentAccountsPayable': '4896000000', 'deferredRevenue': '15877000000', 'currentDebt': '16319000000', 'shortTermDebt': '8797000000', 'totalNonCurrentLiabilities': '100877000000', 'capitalLeaseObligations': '5259000000', 'longTermDebt': '65953000000', 'currentLongTermDebt': '7522000000', 'longTermDebtNoncurrent': '54102000000', 'shortLongTermDebtTotal': '132187000000', 'otherCurrentLiabilities': '7763000000', 'otherNonCurrentLiabilities': '14526000000', 'totalShareholderEquity': '20841000000', 'treasuryStock': '169413000000', 'retainedEarnings': '162954000000', 'commonStock': '55895000000', 'commonStockSharesOutstanding': '887110455'}, {'fiscalDateEnding': '2019-09-30', 'reportedCurrency': 'USD', 'totalAssets': '149620000000', 'totalCurrentAssets': '38121000000', 'cashAndCashEquivalentsAtCarryingValue': '10087000000', 'cashAndShortTermInvestments': '10820000000', 'inventory': '1712000000', 'currentNetReceivables': '20959000000', 'totalNonCurrentAssets': '109277000000', 'propertyPlantEquipment': '10063000000', 'accumulatedDepreciationAmortizationPPE': '21608000000', 'intangibleAssets': '73564000000', 'intangibleAssetsExcludingGoodwill': '15613000000', 'goodwill': '57951000000', 'investments': '733000000', 'longTermInvestments': '2221000000', 'shortTermInvestments': '733000000', 'otherCurrentAssets': '4630000000', 'otherNonCurrentAssets': 'None', 'totalLiabilities': '131524000000', 'totalCurrentLiabilities': '35066000000', 'currentAccountsPayable': '4042000000', 'deferredRevenue': '14605000000', 'currentDebt': '15054000000', 'shortTermDebt': '8530000000', 'totalNonCurrentLiabilities': '96458000000', 'capitalLeaseObligations': '5167000000', 'longTermDebt': '62944000000', 'currentLongTermDebt': '5147000000', 'longTermDebtNoncurrent': '57797000000', 'shortLongTermDebtTotal': '71474000000', 'otherCurrentLiabilities': '7740000000', 'otherNonCurrentLiabilities': '15564000000', 'totalShareholderEquity': '17956000000', 'treasuryStock': '169474000000', 'retainedEarnings': '160709000000', 'commonStock': '55808000000', 'commonStockSharesOutstanding': '886000000'}, {'fiscalDateEnding': '2019-06-30', 'reportedCurrency': 'USD', 'totalAssets': '154652000000', 'totalCurrentAssets': '77517000000', 'cashAndCashEquivalentsAtCarryingValue': '45399000000', 'cashAndShortTermInvestments': '46273000000', 'inventory': '1745000000', 'currentNetReceivables': '24738000000', 'totalNonCurrentAssets': '74908000000', 'propertyPlantEquipment': '10202000000', 'accumulatedDepreciationAmortizationPPE': '21641000000', 'intangibleAssets': '38012000000', 'intangibleAssetsExcludingGoodwill': '2728000000', 'goodwill': '35284000000', 'investments': '874000000', 'longTermInvestments': '2228000000', 'shortTermInvestments': '874000000', 'otherCurrentAssets': '4761000000', 'otherNonCurrentAssets': 'None', 'totalLiabilities': '136876000000', 'totalCurrentLiabilities': '42351000000', 'currentAccountsPayable': '4724000000', 'deferredRevenue': '14735000000', 'currentDebt': '22443000000', 'shortTermDebt': '14594000000', 'totalNonCurrentLiabilities': '94526000000', 'capitalLeaseObligations': '5265000000', 'longTermDebt': '64975000000', 'currentLongTermDebt': '6530000000', 'longTermDebtNoncurrent': '58445000000', 'shortLongTermDebtTotal': '79569000000', 'otherCurrentLiabilities': '8015000000', 'otherNonCurrentLiabilities': '12190000000', 'totalShareholderEquity': '17645000000', 'treasuryStock': '169385000000', 'retainedEarnings': '160467000000', 'commonStock': '55404000000', 'commonStockSharesOutstanding': '886300000'}, {'fiscalDateEnding': '2019-03-31', 'reportedCurrency': 'USD', 'totalAssets': '130926000000', 'totalCurrentAssets': '52705000000', 'cashAndCashEquivalentsAtCarryingValue': '17134000000', 'cashAndShortTermInvestments': '18006000000', 'inventory': '1771000000', 'currentNetReceivables': '27945000000', 'totalNonCurrentAssets': '65902000000', 'propertyPlantEquipment': '10675000000', 'accumulatedDepreciationAmortizationPPE': '22017000000', 'intangibleAssets': '39237000000', 'intangibleAssetsExcludingGoodwill': '2956000000', 'goodwill': '36281000000', 'investments': '872000000', 'longTermInvestments': '10764000000', 'shortTermInvestments': '872000000', 'otherCurrentAssets': '4983000000', 'otherNonCurrentAssets': 'None', 'totalLiabilities': '114320000000', 'totalCurrentLiabilities': '38871000000', 'currentAccountsPayable': '5711000000', 'deferredRevenue': 'None', 'currentDebt': '10250000000', 'shortTermDebt': '3144000000', 'totalNonCurrentLiabilities': '71859000000', 'capitalLeaseObligations': '4903000000', 'longTermDebt': '46833000000', 'currentLongTermDebt': '7106000000', 'longTermDebtNoncurrent': '39727000000', 'shortLongTermDebtTotal': '49977000000', 'otherCurrentLiabilities': '6980000000', 'otherNonCurrentLiabilities': '12184000000', 'totalShareholderEquity': '16481000000', 'treasuryStock': '169021000000', 'retainedEarnings': '159396000000', 'commonStock': '55287000000', 'commonStockSharesOutstanding': '889581542'}, {'fiscalDateEnding': '2018-12-31', 'reportedCurrency': 'USD', 'totalAssets': '123382000000', 'totalCurrentAssets': '49146000000', 'cashAndCashEquivalentsAtCarryingValue': '11379000000', 'cashAndShortTermInvestments': '11997000000', 'inventory': '1682000000', 'currentNetReceivables': '30563000000', 'totalNonCurrentAssets': '68067000000', 'propertyPlantEquipment': '10792000000', 'accumulatedDepreciationAmortizationPPE': '21668000000', 'intangibleAssets': '39352000000', 'intangibleAssetsExcludingGoodwill': '3087000000', 'goodwill': '36265000000', 'investments': '1157000000', 'longTermInvestments': '192000000', 'shortTermInvestments': '618000000', 'otherCurrentAssets': '4904000000', 'otherNonCurrentAssets': 'None', 'totalLiabilities': '106452000000', 'totalCurrentLiabilities': '38227000000', 'currentAccountsPayable': '6558000000', 'deferredRevenue': '14610000000', 'currentDebt': '10207000000', 'shortTermDebt': '10207000000', 'totalNonCurrentLiabilities': '76767000000', 'capitalLeaseObligations': 'None', 'longTermDebt': '42656000000', 'currentLongTermDebt': '7051000000', 'longTermDebtNoncurrent': '35605000000', 'shortLongTermDebtTotal': '52863000000', 'otherCurrentLiabilities': '7251000000', 'otherNonCurrentLiabilities': '12174000000', 'totalShareholderEquity': '16796000000', 'treasuryStock': '168071000000', 'retainedEarnings': '159206000000', 'commonStock': '55151000000', 'commonStockSharesOutstanding': '892479411'}, {'fiscalDateEnding': '2018-09-30', 'reportedCurrency': 'USD', 'totalAssets': '121990000000', 'totalCurrentAssets': '48257000000', 'cashAndCashEquivalentsAtCarryingValue': '11563000000', 'cashAndShortTermInvestments': '14495000000', 'inventory': '1893000000', 'currentNetReceivables': '27087000000', 'totalNonCurrentAssets': '67024000000', 'propertyPlantEquipment': '10949000000', 'accumulatedDepreciationAmortizationPPE': '21535000000', 'intangibleAssets': '39660000000', 'intangibleAssetsExcludingGoodwill': '3134000000', 'goodwill': '36526000000', 'investments': '2932000000', 'longTermInvestments': '10451000000', 'shortTermInvestments': '2932000000', 'otherCurrentAssets': '4782000000', 'otherNonCurrentAssets': 'None', 'totalLiabilities': '102071000000', 'totalCurrentLiabilities': '36822000000', 'currentAccountsPayable': '5384000000', 'deferredRevenue': 'None', 'currentDebt': '10932000000', 'shortTermDebt': '4159000000', 'totalNonCurrentLiabilities': '65249000000', 'capitalLeaseObligations': 'None', 'longTermDebt': '42762000000', 'currentLongTermDebt': '6773000000', 'longTermDebtNoncurrent': '35989000000', 'shortLongTermDebtTotal': '46921000000', 'otherCurrentLiabilities': '7300000000', 'otherNonCurrentLiabilities': '9979000000', 'totalShareholderEquity': '19784000000', 'treasuryStock': '165995000000', 'retainedEarnings': '158612000000', 'commonStock': '54987000000', 'commonStockSharesOutstanding': '911152848'}, {'fiscalDateEnding': '2018-06-30', 'reportedCurrency': 'USD', 'totalAssets': '121622000000', 'totalCurrentAssets': '46795000000', 'cashAndCashEquivalentsAtCarryingValue': '10741000000', 'cashAndShortTermInvestments': '11707000000', 'inventory': '1742000000', 'currentNetReceivables': '28340000000', 'totalNonCurrentAssets': '67621000000', 'propertyPlantEquipment': '11024000000', 'accumulatedDepreciationAmortizationPPE': '21209000000', 'intangibleAssets': '39826000000', 'intangibleAssetsExcludingGoodwill': '3344000000', 'goodwill': '36482000000', 'investments': '966000000', 'longTermInvestments': '11301000000', 'shortTermInvestments': '966000000', 'otherCurrentAssets': '5006000000', 'otherNonCurrentAssets': 'None', 'totalLiabilities': '102974000000', 'totalCurrentLiabilities': '35442000000', 'currentAccountsPayable': '5518000000', 'deferredRevenue': 'None', 'currentDebt': '7646000000', 'shortTermDebt': '2199000000', 'totalNonCurrentLiabilities': '67532000000', 'capitalLeaseObligations': 'None', 'longTermDebt': '43298000000', 'currentLongTermDebt': '5447000000', 'longTermDebtNoncurrent': '37851000000', 'shortLongTermDebtTotal': '45497000000', 'otherCurrentLiabilities': '7746000000', 'otherNonCurrentLiabilities': '10000000000', 'totalShareholderEquity': '18520000000', 'treasuryStock': '165366000000', 'retainedEarnings': '157349000000', 'commonStock': '54827000000', 'commonStockSharesOutstanding': '915064434'}]}\n"
     ]
    }
   ],
   "source": [
    "balance_sheet=requests.get(f'https://www.alphavantage.co/query?function=BALANCE_SHEET&symbol=IBM&apikey=demo')\n",
    "balance_sheet=balance_sheet.json()\n",
    "print(balance_sheet)\n",
    "cash_flow=requests.get(f'https://www.alphavantage.co/query?function=CASH_FLOW&symbol=IBM&apikey=demo')\n",
    "cash_flow=cash_flow.json()"
   ]
  },
  {
   "cell_type": "code",
   "execution_count": 162,
   "metadata": {},
   "outputs": [
    {
     "name": "stdout",
     "output_type": "stream",
     "text": [
      "35982000000\n"
     ]
    }
   ],
   "source": [
    "print(balance_sheet['quarterlyReports'][0]['totalCurrentAssets'])"
   ]
  },
  {
   "cell_type": "code",
   "execution_count": 163,
   "metadata": {},
   "outputs": [
    {
     "name": "stdout",
     "output_type": "stream",
     "text": [
      "<class 'int'>\n"
     ]
    }
   ],
   "source": [
    "#TOP 5 VALUES THAT CA NOTICE'S\n",
    "annual_report = balance_sheet[\"annualReports\"][0]\n",
    "total_assets = int(annual_report[\"totalAssets\"]) #1\n",
    "total_liabilities = annual_report[\"totalLiabilities\"] #2\n",
    "shareholder_equity = annual_report[\"totalShareholderEquity\"] #3\n",
    "cash_and_equivalents = annual_report[\"cashAndCashEquivalentsAtCarryingValue\"] #4\n",
    "intangible_assets = annual_report[\"intangibleAssets\"] #5\n",
    "print(type(total_assets))"
   ]
  },
  {
   "cell_type": "code",
   "execution_count": 164,
   "metadata": {},
   "outputs": [
    {
     "name": "stdout",
     "output_type": "stream",
     "text": [
      "1.0123513475144668\n"
     ]
    }
   ],
   "source": [
    "#current ratio=total Current Assets / Total Current Liabilities\n",
    "avg_current_ratio=0\n",
    "one=\"\"\n",
    "for i in range(0,3):\n",
    "    total_current_assets=int(balance_sheet[\"quarterlyReports\"][i][\"totalCurrentAssets\"])\n",
    "    total_current_liabilities=int(balance_sheet[\"quarterlyReports\"][i][\"totalCurrentLiabilities\"])\n",
    "    avg_current_ratio=(total_current_assets/total_current_liabilities) + avg_current_ratio\n",
    "avg_current_ratio=avg_current_ratio/3\n",
    "if avg_current_ratio<1:\n",
    "    one=\"liquidity challenges and potential risk as liabilities, may face challenges in meeting its short-term financial obligations.\"\n",
    "elif avg_current_ratio>1:\n",
    "    one=\"strong ability to cover its short-term liabilities with its current assets.\"\n",
    "else:\n",
    "    one=\"company may have limited liquidity\"        \n",
    "print(avg_current_ratio)"
   ]
  },
  {
   "cell_type": "code",
   "execution_count": 175,
   "metadata": {},
   "outputs": [
    {
     "name": "stdout",
     "output_type": "stream",
     "text": [
      "\n",
      "\n",
      "Yes, the Debt to Equity ratio for IBM is a good ratio. It is an indication of financial stability and indicates IBM has relatively less debt\n",
      "5.080908313583226\n"
     ]
    }
   ],
   "source": [
    "#Debt-to-Equity Ratio = Total Liabilities / Total Shareholder Equity\\\n",
    "two=\"\"\n",
    "avg_debt_to_equityratio=0\n",
    "for i in range(0,3):\n",
    "    total_liabilities=int(balance_sheet[\"quarterlyReports\"][i][\"totalLiabilities\"])\n",
    "    total_shareholder_equity=int(balance_sheet[\"quarterlyReports\"][i][\"totalShareholderEquity\"])\n",
    "    avg_debt_to_equityratio=(total_liabilities/total_shareholder_equity)+avg_debt_to_equityratio\n",
    "avg_debt_to_equityratio=str(avg_debt_to_equityratio/3)\n",
    "#LLM USE\n",
    "response = openai.Completion.create(\n",
    "    prompt=f\"Debt to Equity ratio={avg_debt_to_equityratio} for IBM is a good ratio? Tell me in 25 words.\",\n",
    "    model=model,\n",
    "    max_tokens=30,\n",
    "    temperature=0.9,\n",
    "    n=1,\n",
    "    stop=['---']\n",
    ")\n",
    "for result in response.choices:\n",
    "    print(result.text)\n",
    "    two=result.text\n",
    "print(avg_debt_to_equityratio)"
   ]
  },
  {
   "cell_type": "code",
   "execution_count": 182,
   "metadata": {},
   "outputs": [
    {
     "name": "stdout",
     "output_type": "stream",
     "text": [
      "\n",
      "\n",
      "This company has a good financial performance, with high net income and cash flow relative to total assets.\n"
     ]
    }
   ],
   "source": [
    "#cash flow VS netincome vs totalAssets\n",
    "three=\"\"\n",
    "total_cash_flow=int(cash_flow[\"quarterlyReports\"][0][\"operatingCashflow\"])+int(cash_flow[\"quarterlyReports\"][0][\"cashflowFromInvestment\"])+int(cash_flow[\"quarterlyReports\"][0][\"cashflowFromFinancing\"])\n",
    "total_net_income=int(cash_flow[\"quarterlyReports\"][0][\"netIncome\"])\n",
    "total_totalAssets=int(balance_sheet[\"quarterlyReports\"][0][\"totalAssets\"])\n",
    "#LLM USE\n",
    "response = openai.Completion.create(\n",
    "    prompt=f\"Analyze company if cashflow={total_cash_flow},netincome={total_net_income}, total assets={total_totalAssets}? Tell me in 25words. \",\n",
    "    model=model,\n",
    "    max_tokens=30,\n",
    "    temperature=0.8,\n",
    "    n=1,\n",
    "    stop=['---']\n",
    ")\n",
    "for result in response.choices:\n",
    "    print(result.text)\n",
    "    three=result.text"
   ]
  },
  {
   "cell_type": "code",
   "execution_count": 177,
   "metadata": {},
   "outputs": [
    {
     "name": "stdout",
     "output_type": "stream",
     "text": [
      "\n",
      "\n",
      "ROA indicates IBM is generating low returns from its assets. Needs improvement.\n",
      "0.09464071635260662%\n"
     ]
    }
   ],
   "source": [
    "#Return on Assets (ROA)=Net Income / Total Assets * 100\n",
    "four=\"\"\n",
    "avg_return_on_assets=0\n",
    "for i in range(0,3):\n",
    "    total_net_income=int(cash_flow[\"quarterlyReports\"][i][\"netIncome\"])\n",
    "    total_totalAssets=int(balance_sheet[\"quarterlyReports\"][i][\"totalAssets\"])\n",
    "    avg_return_on_assets=((total_net_income/total_totalAssets)*100)+avg_return_on_assets\n",
    "avg_return_on_assets=avg_return_on_assets/3\n",
    "#LLM USE\n",
    "response = openai.Completion.create(\n",
    "    prompt=f\"ROA of company like IBM is {avg_return_on_assets} %.Analyse it in 15 words\",\n",
    "    model=model,\n",
    "    max_tokens=20,\n",
    "    temperature=0.9,\n",
    "    n=1,\n",
    "    stop=['---']\n",
    ")\n",
    "for result in response.choices:\n",
    "    print(result.text)\n",
    "    four=result.text\n",
    "print(str(avg_return_on_assets)+\"%\")    \n"
   ]
  },
  {
   "cell_type": "code",
   "execution_count": 171,
   "metadata": {},
   "outputs": [
    {
     "name": "stdout",
     "output_type": "stream",
     "text": [
      "0.9590617831432207\n"
     ]
    }
   ],
   "source": [
    "#Quick Ratio = (Total Current Assets - Inventory) / Total Current Liabilities\n",
    "five=\"\"\n",
    "avg_quick_ratio=0\n",
    "for i in range(0,3):\n",
    "    total_current_assets=int(balance_sheet[\"quarterlyReports\"][i][\"totalCurrentAssets\"])\n",
    "    total_current_liabilities=int(balance_sheet[\"quarterlyReports\"][i][\"totalCurrentLiabilities\"])\n",
    "    total_inventory=int(balance_sheet[\"quarterlyReports\"][i][\"inventory\"])\n",
    "    avg_quick_ratio=((total_current_assets-total_inventory)/total_current_liabilities)+ avg_quick_ratio\n",
    "avg_quick_ratio=avg_quick_ratio/3\n",
    "if avg_quick_ratio>avg_current_ratio:\n",
    "    five=\"The company may have a stronger liquidity position in terms of its ability to meet short-term obligations without relying heavily on inventory.\"\n",
    "else:\n",
    "    five=\"A significant portion of the company's current assets is tied up in inventory.Some possible reasons can be Inventory-Intensive Business, Seasonal Variations, Challenges in Liquidating Inventory or Limited Liquid Assets.\"    \n",
    "print(avg_quick_ratio)    \n",
    "    \n",
    "    "
   ]
  },
  {
   "cell_type": "code",
   "execution_count": 172,
   "metadata": {},
   "outputs": [
    {
     "name": "stdout",
     "output_type": "stream",
     "text": [
      "1.9693787422638989\n"
     ]
    }
   ],
   "source": [
    "#EPS = Net Income / Number of Outstanding Shares\n",
    "#latest quarter\n",
    "six=\"\"\n",
    "total_net_income=int(cash_flow[\"quarterlyReports\"][0][\"netIncome\"])\n",
    "total_num_of_outstanding_shares=int(balance_sheet[\"quarterlyReports\"][0][\"commonStockSharesOutstanding\"])\n",
    "eps1=total_net_income/total_num_of_outstanding_shares\n",
    "#2nd quarter\n",
    "total_net_income=int(cash_flow[\"quarterlyReports\"][1][\"netIncome\"])\n",
    "total_num_of_outstanding_shares=int(balance_sheet[\"quarterlyReports\"][1][\"commonStockSharesOutstanding\"])\n",
    "eps2=total_net_income/total_num_of_outstanding_shares\n",
    "print(eps2-eps1)\n",
    "diff_eps=eps2-eps1\n",
    "if diff_eps>0:\n",
    "    six=f\"EPS is reduced in this quarter by {diff_eps}\"\n",
    "else:    \n",
    "    six=f\"EPS is increased in this quarter by {diff_eps}\""
   ]
  },
  {
   "cell_type": "code",
   "execution_count": 185,
   "metadata": {},
   "outputs": [
    {
     "name": "stdout",
     "output_type": "stream",
     "text": [
      "867333333.3333334\n",
      "1522000000\n"
     ]
    }
   ],
   "source": [
    "# Working Capital = Total Current Assets - Total Current Liabilities\n",
    "seven=\"\"\n",
    "avg_working_capital=0\n",
    "for i in range(0,2):\n",
    "    total_current_assets=int(balance_sheet[\"quarterlyReports\"][i][\"totalCurrentAssets\"])\n",
    "    total_current_liabilities=int(balance_sheet[\"quarterlyReports\"][i][\"totalCurrentLiabilities\"])\n",
    "    avg_working_capital=(total_current_assets-total_current_liabilities)+avg_working_capital\n",
    "avg_working_capital=avg_working_capital/3\n",
    "print(avg_working_capital)    \n",
    "print(total_cash_flow)\n",
    "if avg_working_capital>total_cash_flow:\n",
    "    seven=\"The company has a relatively strong short-term liquidity position compared to its cash generation capabilities,company has more current assets available to cover its current liabilities.This scenario could indicate that the company has a significant amount of current assets, such as cash, accounts receivable, and inventory, that can be readily converted into cash to meet its short-term obligations\"\n",
    "else:\n",
    "    seven=\"The company may have a relatively weaker short-term liquidity position and the company may have fewer current assets to cover its current liabilities.This situation could arise due to various reasons, such as aggressive growth strategies, high levels of accounts payable, or significant investments in long-term assets.\"    "
   ]
  },
  {
   "cell_type": "code",
   "execution_count": 187,
   "metadata": {},
   "outputs": [
    {
     "name": "stdout",
     "output_type": "stream",
     "text": [
      "strong ability to cover its short-term liabilities with its current assets.\n",
      "\n",
      "\n",
      "Yes, the Debt to Equity ratio for IBM is a good ratio. It is an indication of financial stability and indicates IBM has relatively less debt\n",
      "\n",
      "\n",
      "This company has a good financial performance, with high net income and cash flow relative to total assets.\n",
      "\n",
      "Average return on assets=0.09464071635260662 \n",
      "\n",
      "ROA indicates IBM is generating low returns from its assets. Needs improvement.\n",
      "\n",
      "A significant portion of the company's current assets is tied up in inventory.Some possible reasons can be Inventory-Intensive Business, Seasonal Variations, Challenges in Liquidating Inventory or Limited Liquid Assets.\n",
      "\n",
      "EPS is reduced in this quarter by 1.9693787422638989\n",
      "\n",
      "The company may have a relatively weaker short-term liquidity position and the company may have fewer current assets to cover its current liabilities.This situation could arise due to various reasons, such as aggressive growth strategies, high levels of accounts payable, or significant investments in long-term assets.\n"
     ]
    }
   ],
   "source": [
    "print(one)\n",
    "print(two)\n",
    "print(three+\"\\n\")\n",
    "print(\"Average return on assets=\"+str(avg_return_on_assets)+\" \"+four+\"\\n\")\n",
    "print(five+\"\\n\")\n",
    "print(six+\"\\n\")\n",
    "print(seven)"
   ]
  },
  {
   "cell_type": "code",
   "execution_count": null,
   "metadata": {},
   "outputs": [],
   "source": []
  }
 ],
 "metadata": {
  "kernelspec": {
   "display_name": "Python 3",
   "language": "python",
   "name": "python3"
  },
  "language_info": {
   "codemirror_mode": {
    "name": "ipython",
    "version": 3
   },
   "file_extension": ".py",
   "mimetype": "text/x-python",
   "name": "python",
   "nbconvert_exporter": "python",
   "pygments_lexer": "ipython3",
   "version": "3.11.1"
  },
  "orig_nbformat": 4
 },
 "nbformat": 4,
 "nbformat_minor": 2
}
